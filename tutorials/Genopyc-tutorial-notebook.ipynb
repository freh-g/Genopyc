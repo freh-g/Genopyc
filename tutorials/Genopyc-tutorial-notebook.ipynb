{
 "cells": [
  {
   "cell_type": "markdown",
   "id": "23ae379b",
   "metadata": {},
   "source": [
    "# GENOPYC TUTORIAL NOTEBOOK\n",
    "\n",
    "\n",
    "In this tutorial we will explore some of the features of genopyc library\n",
    "\n",
    "# Install the library "
   ]
  },
  {
   "cell_type": "code",
   "execution_count": null,
   "id": "d3ee466b",
   "metadata": {},
   "outputs": [],
   "source": [
    "!pip install genopyc"
   ]
  },
  {
   "cell_type": "markdown",
   "id": "38117d8a",
   "metadata": {},
   "source": [
    "# Import all the necessary libraries"
   ]
  },
  {
   "cell_type": "code",
   "execution_count": 2,
   "id": "cf7c3cdf",
   "metadata": {},
   "outputs": [],
   "source": [
    "import genopyc as gp\n",
    "import matplotlib.pyplot as plt\n",
    "import seaborn as sns\n",
    "import pandas as pd\n",
    "import requests\n",
    "from collections import Counter\n"
   ]
  },
  {
   "cell_type": "markdown",
   "id": "3afa85dc",
   "metadata": {},
   "source": [
    "# Download variants associated to Breast Carcinoma (EFO_0000305) from GWAS catalog"
   ]
  },
  {
   "cell_type": "code",
   "execution_count": 3,
   "id": "4574c7f7",
   "metadata": {
    "scrolled": false
   },
   "outputs": [
    {
     "name": "stdout",
     "output_type": "stream",
     "text": [
      "querying associations... \n",
      "\n",
      "building the dataframe...\n"
     ]
    },
    {
     "data": {
      "text/html": [
       "<div>\n",
       "<style scoped>\n",
       "    .dataframe tbody tr th:only-of-type {\n",
       "        vertical-align: middle;\n",
       "    }\n",
       "\n",
       "    .dataframe tbody tr th {\n",
       "        vertical-align: top;\n",
       "    }\n",
       "\n",
       "    .dataframe thead th {\n",
       "        text-align: right;\n",
       "    }\n",
       "</style>\n",
       "<table border=\"1\" class=\"dataframe\">\n",
       "  <thead>\n",
       "    <tr style=\"text-align: right;\">\n",
       "      <th></th>\n",
       "      <th>variantid</th>\n",
       "      <th>p-value</th>\n",
       "      <th>risk_allele</th>\n",
       "      <th>RAF</th>\n",
       "      <th>beta</th>\n",
       "      <th>CI</th>\n",
       "      <th>mapped_gene</th>\n",
       "      <th>SE</th>\n",
       "    </tr>\n",
       "  </thead>\n",
       "  <tbody>\n",
       "    <tr>\n",
       "      <th>0</th>\n",
       "      <td>rs6788895</td>\n",
       "      <td>9.0e-08</td>\n",
       "      <td>G</td>\n",
       "      <td>0.65</td>\n",
       "      <td>NaN</td>\n",
       "      <td>[1.13-1.31]</td>\n",
       "      <td>[SIAH2]</td>\n",
       "      <td>NaN</td>\n",
       "    </tr>\n",
       "    <tr>\n",
       "      <th>1</th>\n",
       "      <td>rs3750817</td>\n",
       "      <td>8.0e-08</td>\n",
       "      <td>T</td>\n",
       "      <td>0.49</td>\n",
       "      <td>NaN</td>\n",
       "      <td>[NR]</td>\n",
       "      <td>[FGFR2]</td>\n",
       "      <td>NaN</td>\n",
       "    </tr>\n",
       "    <tr>\n",
       "      <th>2</th>\n",
       "      <td>rs3803662</td>\n",
       "      <td>6.0e-19</td>\n",
       "      <td>T</td>\n",
       "      <td>0.27</td>\n",
       "      <td>NaN</td>\n",
       "      <td>[1.21-1.35]</td>\n",
       "      <td>[TNRC9]</td>\n",
       "      <td>NaN</td>\n",
       "    </tr>\n",
       "    <tr>\n",
       "      <th>3</th>\n",
       "      <td>rs13387042</td>\n",
       "      <td>1.0e-13</td>\n",
       "      <td>A</td>\n",
       "      <td>0.50</td>\n",
       "      <td>NaN</td>\n",
       "      <td>[1.14-1.26]</td>\n",
       "      <td>[intergenic]</td>\n",
       "      <td>NaN</td>\n",
       "    </tr>\n",
       "    <tr>\n",
       "      <th>4</th>\n",
       "      <td>rs10069690</td>\n",
       "      <td>1.0e-10</td>\n",
       "      <td>T</td>\n",
       "      <td>0.26</td>\n",
       "      <td>NaN</td>\n",
       "      <td>[1.13-1.25]</td>\n",
       "      <td>[TERT]</td>\n",
       "      <td>NaN</td>\n",
       "    </tr>\n",
       "    <tr>\n",
       "      <th>...</th>\n",
       "      <td>...</td>\n",
       "      <td>...</td>\n",
       "      <td>...</td>\n",
       "      <td>...</td>\n",
       "      <td>...</td>\n",
       "      <td>...</td>\n",
       "      <td>...</td>\n",
       "      <td>...</td>\n",
       "    </tr>\n",
       "    <tr>\n",
       "      <th>1861</th>\n",
       "      <td>chr5:44678534</td>\n",
       "      <td>6.0e-11</td>\n",
       "      <td>?</td>\n",
       "      <td>NaN</td>\n",
       "      <td>0.14352</td>\n",
       "      <td>[0.11-0.18]</td>\n",
       "      <td>[]</td>\n",
       "      <td>0.01871</td>\n",
       "    </tr>\n",
       "    <tr>\n",
       "      <th>1862</th>\n",
       "      <td>chr5:56042972</td>\n",
       "      <td>3.0e-09</td>\n",
       "      <td>?</td>\n",
       "      <td>NaN</td>\n",
       "      <td>0.19644</td>\n",
       "      <td>[0.14-0.26]</td>\n",
       "      <td>[]</td>\n",
       "      <td>0.03117</td>\n",
       "    </tr>\n",
       "    <tr>\n",
       "      <th>1863</th>\n",
       "      <td>chr6:151949582</td>\n",
       "      <td>4.0e-15</td>\n",
       "      <td>?</td>\n",
       "      <td>NaN</td>\n",
       "      <td>0.18754</td>\n",
       "      <td>[0.15-0.23]</td>\n",
       "      <td>[]</td>\n",
       "      <td>0.02143</td>\n",
       "    </tr>\n",
       "    <tr>\n",
       "      <th>1864</th>\n",
       "      <td>chr10:123333997</td>\n",
       "      <td>2.0e-21</td>\n",
       "      <td>?</td>\n",
       "      <td>NaN</td>\n",
       "      <td>0.18819</td>\n",
       "      <td>[0.15-0.22]</td>\n",
       "      <td>[]</td>\n",
       "      <td>0.01853</td>\n",
       "    </tr>\n",
       "    <tr>\n",
       "      <th>1865</th>\n",
       "      <td>chr16:52599188</td>\n",
       "      <td>1.0e-25</td>\n",
       "      <td>?</td>\n",
       "      <td>NaN</td>\n",
       "      <td>0.25621</td>\n",
       "      <td>[0.21-0.3]</td>\n",
       "      <td>[]</td>\n",
       "      <td>0.02200</td>\n",
       "    </tr>\n",
       "  </tbody>\n",
       "</table>\n",
       "<p>1866 rows × 8 columns</p>\n",
       "</div>"
      ],
      "text/plain": [
       "            variantid  p-value risk_allele   RAF     beta            CI   \n",
       "0           rs6788895  9.0e-08           G  0.65      NaN   [1.13-1.31]  \\\n",
       "1           rs3750817  8.0e-08           T  0.49      NaN          [NR]   \n",
       "2           rs3803662  6.0e-19           T  0.27      NaN   [1.21-1.35]   \n",
       "3          rs13387042  1.0e-13           A  0.50      NaN   [1.14-1.26]   \n",
       "4          rs10069690  1.0e-10           T  0.26      NaN  [1.13-1.25]    \n",
       "...               ...      ...         ...   ...      ...           ...   \n",
       "1861    chr5:44678534  6.0e-11           ?   NaN  0.14352   [0.11-0.18]   \n",
       "1862    chr5:56042972  3.0e-09           ?   NaN  0.19644   [0.14-0.26]   \n",
       "1863   chr6:151949582  4.0e-15           ?   NaN  0.18754   [0.15-0.23]   \n",
       "1864  chr10:123333997  2.0e-21           ?   NaN  0.18819   [0.15-0.22]   \n",
       "1865   chr16:52599188  1.0e-25           ?   NaN  0.25621    [0.21-0.3]   \n",
       "\n",
       "       mapped_gene       SE  \n",
       "0          [SIAH2]      NaN  \n",
       "1          [FGFR2]      NaN  \n",
       "2          [TNRC9]      NaN  \n",
       "3     [intergenic]      NaN  \n",
       "4           [TERT]      NaN  \n",
       "...            ...      ...  \n",
       "1861            []  0.01871  \n",
       "1862            []  0.03117  \n",
       "1863            []  0.02143  \n",
       "1864            []  0.01853  \n",
       "1865            []  0.02200  \n",
       "\n",
       "[1866 rows x 8 columns]"
      ]
     },
     "execution_count": 3,
     "metadata": {},
     "output_type": "execute_result"
    }
   ],
   "source": [
    "associations=gp.get_associations('EFO_0000305',verbose=True)\n",
    "associations"
   ]
  },
  {
   "cell_type": "markdown",
   "id": "4fcbf7f9",
   "metadata": {},
   "source": [
    "## Get Variant Positions for all the variants retrieved"
   ]
  },
  {
   "cell_type": "code",
   "execution_count": 5,
   "id": "ddf36f2f",
   "metadata": {},
   "outputs": [],
   "source": [
    "variants=list(set(associations.variantid.tolist()))"
   ]
  },
  {
   "cell_type": "code",
   "execution_count": 4,
   "id": "cb109829",
   "metadata": {},
   "outputs": [
    {
     "name": "stdout",
     "output_type": "stream",
     "text": [
      "total number of chunks: 7\n",
      "chunk 0 processed\n",
      "chunk 1 processed\n",
      "chunk 2 processed\n",
      "chunk 3 processed\n",
      "Couldn't Retrieve Position for variant rs8176636\n",
      "Couldn't Retrieve Position for variant rs1570070540\n",
      "chunk 4 processed\n",
      "chunk 5 processed\n",
      "chunk 6 processed\n"
     ]
    }
   ],
   "source": [
    "variant_positions=gp.get_variant_position_many(variants)"
   ]
  },
  {
   "cell_type": "markdown",
   "id": "599c0899",
   "metadata": {},
   "source": [
    "## - The result is a list of tuples with shape (variantid, chromosome, genomic coordinates)"
   ]
  },
  {
   "cell_type": "code",
   "execution_count": 5,
   "id": "19d826bf",
   "metadata": {
    "scrolled": true
   },
   "outputs": [
    {
     "data": {
      "text/plain": [
       "[('rs643506', '11', 111765903),\n",
       " ('rs141752671', '11', 103745837),\n",
       " ('rs62331150', '4', 105147856),\n",
       " ('rs111549985', '5', 81972251),\n",
       " ('rs2901157', '10', 117502854),\n",
       " ('rs1154723', '20', 11399194),\n",
       " ('rs9952980', '18', 45308832),\n",
       " ('rs2912780', '10', 121577603),\n",
       " ('rs10411161', '19', 51869723),\n",
       " ('rs6752414', '2', 120667763)]"
      ]
     },
     "execution_count": 5,
     "metadata": {},
     "output_type": "execute_result"
    }
   ],
   "source": [
    "variant_positions[:10]"
   ]
  },
  {
   "cell_type": "markdown",
   "id": "56b61ce6",
   "metadata": {},
   "source": [
    " - A first approach could be to investigate the elements that lie in a specific region surrounding variant of interest, this can be easily done with get_ov_elements() function. It accepts genomic coordinates chromosome, start and end of a specific genomic region and it returns the elements that overlap it. The feature keyword is a list containing the specific features we want to retrieve. Refer to the [Documentation](https://rest.ensembl.org/documentation/info/overlap_region) from ensembl in order to have a full list of possible features that can be retrieved.\n",
    " \n",
    "- Here I will inspect a region of 500 bp arount the rsid rs2901157 retrieving genes and motif features of that genomic area"
   ]
  },
  {
   "cell_type": "code",
   "execution_count": 89,
   "id": "3b6e2486",
   "metadata": {},
   "outputs": [],
   "source": [
    "rs2901157_chr=10\n",
    "rs2901157_genomic_location=117502854\n",
    "window=500\n",
    "genomic_area_start=rs2901157_genomic_location-window//2\n",
    "genomic_area_end=rs2901157_genomic_location+window//2\n",
    "\n",
    "overlapping_elements=gp.get_ov_region(rs2901157_chr,genomic_area_start,genomic_area_end,features=['regulatory','gene','motif'])\n"
   ]
  },
  {
   "cell_type": "code",
   "execution_count": 90,
   "id": "99a6048d",
   "metadata": {
    "scrolled": true
   },
   "outputs": [
    {
     "data": {
      "text/plain": [
       "[{'start': 117502909,\n",
       "  'id': 'ENSR00000417087',\n",
       "  'strand': 0,\n",
       "  'description': 'Predicted enhancer region',\n",
       "  'bound_end': 117504155,\n",
       "  'source': 'Regulatory_Build',\n",
       "  'feature_type': 'regulatory',\n",
       "  'end': 117504155,\n",
       "  'seq_region_name': '10',\n",
       "  'bound_start': 117502909},\n",
       " {'gene_id': 'ENSG00000229847',\n",
       "  'seq_region_name': '10',\n",
       "  'end': 117545068,\n",
       "  'logic_name': 'havana_homo_sapiens',\n",
       "  'assembly_name': 'GRCh38',\n",
       "  'feature_type': 'gene',\n",
       "  'source': 'havana',\n",
       "  'external_name': 'EMX2OS',\n",
       "  'version': 9,\n",
       "  'canonical_transcript': 'ENST00000450314.6',\n",
       "  'biotype': 'lncRNA',\n",
       "  'id': 'ENSG00000229847',\n",
       "  'strand': -1,\n",
       "  'description': 'EMX2 opposite strand/antisense RNA [Source:HGNC Symbol;Acc:HGNC:18511]',\n",
       "  'start': 117473215},\n",
       " {'seq_region_name': '10',\n",
       "  'end': 117502931,\n",
       "  'stable_id': 'ENSM00238577010',\n",
       "  'binding_matrix_stable_id': 'ENSPFM0067',\n",
       "  'transcription_factor_complex': 'E2F1::ELK1',\n",
       "  'feature_type': 'motif',\n",
       "  'score': 5.22184845355,\n",
       "  'strand': 1,\n",
       "  'start': 117502910},\n",
       " {'seq_region_name': '10',\n",
       "  'end': 117502927,\n",
       "  'stable_id': 'ENSM00461319468',\n",
       "  'binding_matrix_stable_id': 'ENSPFM0506',\n",
       "  'transcription_factor_complex': 'TEAD4::SPIB,TEAD4::ELF1,TEAD4::ELK1',\n",
       "  'feature_type': 'motif',\n",
       "  'score': 4.93272914565,\n",
       "  'strand': -1,\n",
       "  'start': 117502914},\n",
       " {'binding_matrix_stable_id': 'ENSPFM0217',\n",
       "  'stable_id': 'ENSM00310950022',\n",
       "  'end': 117502929,\n",
       "  'seq_region_name': '10',\n",
       "  'feature_type': 'motif',\n",
       "  'transcription_factor_complex': 'GCM1::ELF1',\n",
       "  'score': 3.82251312335,\n",
       "  'start': 117502914,\n",
       "  'strand': -1},\n",
       " {'strand': -1,\n",
       "  'start': 117502914,\n",
       "  'score': 5.69283782023,\n",
       "  'transcription_factor_complex': 'HOXB2::ELF1',\n",
       "  'feature_type': 'motif',\n",
       "  'seq_region_name': '10',\n",
       "  'stable_id': 'ENSM00352054701',\n",
       "  'binding_matrix_stable_id': 'ENSPFM0306',\n",
       "  'end': 117502935},\n",
       " {'end': 117502930,\n",
       "  'binding_matrix_stable_id': 'ENSPFM0085',\n",
       "  'stable_id': 'ENSM00246808758',\n",
       "  'seq_region_name': '10',\n",
       "  'feature_type': 'motif',\n",
       "  'transcription_factor_complex': 'EBF1',\n",
       "  'score': 3.84890348406,\n",
       "  'start': 117502917,\n",
       "  'strand': -1},\n",
       " {'score': 4.64732768976,\n",
       "  'start': 117502917,\n",
       "  'strand': -1,\n",
       "  'end': 117502944,\n",
       "  'stable_id': 'ENSM00328376772',\n",
       "  'binding_matrix_stable_id': 'ENSPFM0252',\n",
       "  'seq_region_name': '10',\n",
       "  'feature_type': 'motif',\n",
       "  'transcription_factor_complex': 'GCM1::TBX21'},\n",
       " {'score': -1.44223466601,\n",
       "  'start': 117502920,\n",
       "  'strand': -1,\n",
       "  'end': 117502949,\n",
       "  'binding_matrix_stable_id': 'ENSPFM0339',\n",
       "  'stable_id': 'ENSM00369432826',\n",
       "  'seq_region_name': '10',\n",
       "  'feature_type': 'motif',\n",
       "  'transcription_factor_complex': 'HOXD12::EOMES'},\n",
       " {'seq_region_name': '10',\n",
       "  'stable_id': 'ENSM00264447040',\n",
       "  'binding_matrix_stable_id': 'ENSPFM0122',\n",
       "  'end': 117502939,\n",
       "  'transcription_factor_complex': 'ETV2::GSC2,ERF::PITX1',\n",
       "  'feature_type': 'motif',\n",
       "  'score': 6.21811616844,\n",
       "  'strand': 1,\n",
       "  'start': 117502923}]"
      ]
     },
     "execution_count": 90,
     "metadata": {},
     "output_type": "execute_result"
    }
   ],
   "source": [
    "overlapping_elements[:10]\n"
   ]
  },
  {
   "cell_type": "markdown",
   "id": "274ece28",
   "metadata": {},
   "source": [
    "- The result is a list of elements that are overlapping this area,in json format, we can iterate over the results to filter them. For example we can retrieve all the motifs of TFBS in the area. You can learn more about [motifs](https://www.ensembl.info/2018/10/15/new-ensembl-motif-features/) and [regulatory features](https://www.ensembl.org/info/genome/funcgen/index.html) in the official Ensembl documentation.\n",
    "\n"
   ]
  },
  {
   "cell_type": "code",
   "execution_count": 43,
   "id": "cfb05995",
   "metadata": {},
   "outputs": [
    {
     "name": "stdout",
     "output_type": "stream",
     "text": [
      "binding_matrix_stable_id: ENSPFM0067, transcription_factor_complex: E2F1::ELK1\n",
      "binding_matrix_stable_id: ENSPFM0506, transcription_factor_complex: TEAD4::SPIB,TEAD4::ELF1,TEAD4::ELK1\n",
      "binding_matrix_stable_id: ENSPFM0217, transcription_factor_complex: GCM1::ELF1\n",
      "binding_matrix_stable_id: ENSPFM0306, transcription_factor_complex: HOXB2::ELF1\n",
      "binding_matrix_stable_id: ENSPFM0085, transcription_factor_complex: EBF1\n",
      "binding_matrix_stable_id: ENSPFM0252, transcription_factor_complex: GCM1::TBX21\n",
      "binding_matrix_stable_id: ENSPFM0339, transcription_factor_complex: HOXD12::EOMES\n",
      "binding_matrix_stable_id: ENSPFM0122, transcription_factor_complex: ETV2::GSC2,ERF::PITX1\n"
     ]
    }
   ],
   "source": [
    "for oe in overlapping_elements[:10]:\n",
    "    if oe['feature_type']=='motif':\n",
    "        print(f\"binding_matrix_stable_id: {oe['binding_matrix_stable_id']}, transcription_factor_complex: {oe['transcription_factor_complex']}\")"
   ]
  },
  {
   "cell_type": "markdown",
   "id": "3bcaca39",
   "metadata": {},
   "source": [
    "# Run VEP to investigate variant consequences\n",
    "\n",
    "With the function gp.VEP we can programmatically run VEP to investigate SNP consequences"
   ]
  },
  {
   "cell_type": "code",
   "execution_count": 45,
   "id": "4630592a",
   "metadata": {},
   "outputs": [
    {
     "name": "stdout",
     "output_type": "stream",
     "text": [
      "total number of chunks: 7\n",
      "chunk 0 processed\n",
      "chunk 1 processed\n",
      "chunk 2 processed\n",
      "chunk 3 processed\n",
      "chunk 4 processed\n",
      "chunk 5 processed\n",
      "chunk 6 processed\n"
     ]
    }
   ],
   "source": [
    "trans_rsid,reg_rsid,inter_rsid,motif_rsid=gp.VEP(variants)"
   ]
  },
  {
   "cell_type": "code",
   "execution_count": 46,
   "id": "2981a75e",
   "metadata": {},
   "outputs": [],
   "source": [
    "rsid_consequences=sum([tup[1] for tup in trans_rsid]+[tup[1] for tup in reg_rsid]+[tup[1] for tup in inter_rsid]+[tup[1] for tup in motif_rsid],[])"
   ]
  },
  {
   "cell_type": "markdown",
   "id": "556f5532",
   "metadata": {},
   "source": [
    "## Visualize the results\n",
    "\n",
    "Te following chunck of code is for visualizingthe result of VEP with a piechart"
   ]
  },
  {
   "cell_type": "code",
   "execution_count": 85,
   "id": "93bc2937",
   "metadata": {},
   "outputs": [],
   "source": [
    "def PlotVEPResults(list_of_variant_effects):\n",
    "    data=dict(Counter(list_of_variant_effects))\n",
    "    counts=list(data.values())\n",
    "    percentages = [(val/sum(counts))*100 for val in counts]\n",
    "    names=data.keys()\n",
    "\n",
    "\n",
    "    legend_labels=['{0} - {1:1.2f} %'.format(i,j) for i,j in zip(names, percentages)]\n",
    "\n",
    "    colors=plt.cm.tab20c.colors\n",
    "\n",
    "    fig,ax=plt.subplots(figsize=(20,10))\n",
    "    patches,text=ax.pie(data.values(),\n",
    "          colors = colors,\n",
    "          textprops={'fontsize': 12})\n",
    "\n",
    "\n",
    "    ax.legend(patches, legend_labels, bbox_to_anchor=(1,1.050), loc=\"upper left\",fontsize=12)\n",
    "    \n",
    "    fig.suptitle(\"VEP RESULTS\",fontsize=15)\n",
    "    plt.tight_layout()\n",
    "    plt.show()"
   ]
  },
  {
   "cell_type": "code",
   "execution_count": 86,
   "id": "e02e1669",
   "metadata": {
    "scrolled": false
   },
   "outputs": [
    {
     "data": {
      "image/png": "[encoded data removed]",
      "text/plain": [
       "<Figure size 1440x720 with 1 Axes>"
      ]
     },
     "metadata": {},
     "output_type": "display_data"
    }
   ],
   "source": [
    "PlotVEPResults(rsid_consequences)"
   ]
  },
  {
   "cell_type": "markdown",
   "id": "d332a344",
   "metadata": {},
   "source": [
    "## It would be interesting to select the variants that have been detected to have a severed effect (stop gained or missense) and inspect the haplotype by retrieving all the variants in LD above a certain threshold e.g. 0.8\n"
   ]
  },
  {
   "cell_type": "code",
   "execution_count": 69,
   "id": "55171094",
   "metadata": {},
   "outputs": [
    {
     "name": "stdout",
     "output_type": "stream",
     "text": [
      "['rs35273427', 'rs9379084', 'rs11205303', 'rs13195401', 'rs3206824', 'rs8100241', 'rs17879961', 'rs3815308', 'rs7535752', 'rs3184504'] \n",
      "\n",
      " total number of severe rsids =  27\n"
     ]
    }
   ],
   "source": [
    "severe_effects=['missense_variant','stop_gained']\n",
    "\n",
    "severe_rsids=[]\n",
    "for (rsid,effects,biotype,gene) in trans_rsid:\n",
    "    for effect in effects:\n",
    "        if effect in severe_effects:\n",
    "            severe_rsids.append(rsid)\n",
    "\n",
    "severe_rsids=list(set(severe_rsids))\n",
    "print(severe_rsids[:10], '\\n\\n' ,\"total number of severe rsids = \",len(severe_rsids))"
   ]
  },
  {
   "cell_type": "markdown",
   "id": "5afc5359",
   "metadata": {},
   "source": [
    "## retrieve variants in LD above 0.6 for every variant in severe_rsids"
   ]
  },
  {
   "cell_type": "code",
   "execution_count": 70,
   "id": "afff3e78",
   "metadata": {},
   "outputs": [],
   "source": [
    "ld_variants={rsid:gp.get_variants_in_LD(rsid,0.8) for rsid in severe_rsids }"
   ]
  },
  {
   "cell_type": "code",
   "execution_count": 74,
   "id": "ec8e0403",
   "metadata": {},
   "outputs": [
    {
     "data": {
      "text/plain": [
       "['rs34605993',\n",
       " 'rs75782365',\n",
       " 'rs13201782',\n",
       " 'rs139332558',\n",
       " 'rs13198716',\n",
       " 'rs35076545',\n",
       " 'rs34781270',\n",
       " 'rs45527431',\n",
       " 'rs41266839',\n",
       " 'rs71557345',\n",
       " 'rs13220261',\n",
       " 'rs3823158',\n",
       " 'rs34107459',\n",
       " 'rs13190739',\n",
       " 'rs67777156',\n",
       " 'rs72843784',\n",
       " 'rs146863150',\n",
       " 'rs13220522',\n",
       " 'rs10484439',\n",
       " 'rs3734543']"
      ]
     },
     "execution_count": 74,
     "metadata": {},
     "output_type": "execute_result"
    }
   ],
   "source": [
    "ld_variants['rs13195401'][:20]"
   ]
  },
  {
   "cell_type": "markdown",
   "id": "40a8dd0b",
   "metadata": {},
   "source": [
    "# Running VEP running HGVS notation\n",
    "\n",
    "So far we have worked with rsids, however a single rsid can correspond to more than one substitution. From GWAS catalog however we have the precise information of the risk allele and we should use this information. For doing this we will need to write variants in HGVS format since a single rsid can correspond to more than one substitution.\n",
    "\n",
    "An example of HGVS notation is 9:g.22125504G>C where:\n",
    "\n",
    "- 9 is the chromosome\n",
    "- g means genome position\n",
    "- 22125504 is the chromosome position\n",
    "- G and C  are the ref and alternative allele"
   ]
  },
  {
   "cell_type": "code",
   "execution_count": 6,
   "id": "be0e8b15",
   "metadata": {},
   "outputs": [
    {
     "name": "stdout",
     "output_type": "stream",
     "text": [
      "total number of chunks: 7\n",
      "chunk 0 processed\n",
      "chunk 1 processed\n",
      "chunk 2 processed\n",
      "chunk 3 processed\n",
      "chunk 4 processed\n",
      "chunk 5 processed\n",
      "chunk 6 processed\n"
     ]
    }
   ],
   "source": [
    "# We miss the info of the ancestral allele so we will get this information through variant_info function\n",
    "variant_info=gp.get_variant_info_many(variants)"
   ]
  },
  {
   "cell_type": "code",
   "execution_count": 7,
   "id": "b74e45f4",
   "metadata": {},
   "outputs": [],
   "source": [
    "variant_risk_alleles=dict(zip(associations.variantid.tolist(),[ra for ra in associations.risk_allele.tolist()]))\n",
    "variant_genomic_locations=dict(zip([tup[0] for tup in variant_positions],[tup[2] for tup in variant_positions]))\n",
    "variant_chromosomes=dict(zip([tup[0] for tup in variant_positions],[tup[1] for tup in variant_positions]))\n",
    "variant_mappings=dict(zip(variant_info.keys(),[info['mappings'] for info in variant_info.values()]))"
   ]
  },
  {
   "cell_type": "markdown",
   "id": "66a43f40",
   "metadata": {},
   "source": [
    "## Once got all the mappings for each rsid we can see that for a single rsid we can have more than one nucleotide substitution. The strategy here is to keep the ancestral allele that is most represented."
   ]
  },
  {
   "cell_type": "code",
   "execution_count": 8,
   "id": "26b6c524",
   "metadata": {},
   "outputs": [
    {
     "name": "stdout",
     "output_type": "stream",
     "text": [
      "Error for rsid rs8176636: IndexError('list index out of range') MAPPINGS = []\n",
      "Error for rsid rs1570070540: IndexError('list index out of range') MAPPINGS = []\n"
     ]
    }
   ],
   "source": [
    "def most_frequent(List):\n",
    "    return max(set(List), key = List.count)\n",
    "\n",
    "\n",
    "variant_ancestral_alleles={}\n",
    "for rsid,mappings in variant_mappings.items():\n",
    "    if len(mappings)>1:\n",
    "        list_of_alleles=[]\n",
    "        for element in mappings:\n",
    "            ref_allele=element['allele_string'].split('/')[0]\n",
    "            list_of_alleles.append(ref_allele)        \n",
    "        try:\n",
    "            variant_ancestral_alleles[rsid]=most_frequent(list_of_alleles)\n",
    "        except Exception as error:\n",
    "            print(f'Error for rsid {rsid}: ' + repr(error))\n",
    "    else:\n",
    "        try:\n",
    "            ref_allele=mappings[0]['allele_string'].split('/')[0]\n",
    "            variant_ancestral_alleles[rsid]=mappings[0]['ancestral_allele']\n",
    "        except Exception as error:\n",
    "            print(f'Error for rsid {rsid}: ' + repr(error) + ' MAPPINGS = ' + str(mappings))\n",
    "\n",
    "variant_ancestral_alleles={k:v for k,v in variant_ancestral_alleles.items() if v !=None}\n",
    "            \n"
   ]
  },
  {
   "cell_type": "markdown",
   "id": "54f3220a",
   "metadata": {},
   "source": [
    "## we couldn't retreive mappings for 2 variants. Now we will merge all the information retrieved and we will convert the variant in HGVS notation"
   ]
  },
  {
   "cell_type": "code",
   "execution_count": 9,
   "id": "b771b64c",
   "metadata": {},
   "outputs": [
    {
     "name": "stdout",
     "output_type": "stream",
     "text": [
      "Error for rsid rs11249433: KeyError('rs11249433')\n",
      "Error for rsid rs12906542: KeyError('rs12906542')\n",
      "Error for rsid rs11249433: KeyError('rs11249433')\n",
      "Error for rsid rs115707823: KeyError('rs115707823')\n",
      "Error for rsid rs115392158: KeyError('rs115392158')\n",
      "Error for rsid rs147527678: KeyError('rs147527678')\n",
      "Error for rsid rs11907546: KeyError('rs11907546')\n",
      "Error for rsid rs147680653: KeyError('rs147680653')\n",
      "Error for rsid rs115707823: KeyError('rs115707823')\n",
      "Error for rsid rs115392158: KeyError('rs115392158')\n",
      "Error for rsid rs147527678: KeyError('rs147527678')\n",
      "Error for rsid rs11907546: KeyError('rs11907546')\n",
      "Error for rsid rs11374964: KeyError('rs11374964')\n",
      "Error for rsid rs66823261: KeyError('rs66823261')\n",
      "Error for rsid rs11374964: KeyError('rs11374964')\n",
      "Error for rsid chr17:29230520: KeyError('chr17:29230520')\n",
      "Error for rsid rs11249433: KeyError('rs11249433')\n",
      "Error for rsid rs71557345: KeyError('rs71557345')\n",
      "Error for rsid rs35951924: KeyError('rs35951924')\n",
      "Error for rsid rs202049448: KeyError('rs202049448')\n",
      "Error for rsid rs35054928: KeyError('rs35054928')\n",
      "Error for rsid rs190811224: KeyError('rs190811224')\n",
      "Error for rsid rs13160295: KeyError('rs13160295')\n",
      "Error for rsid rs138024639: KeyError('rs138024639')\n",
      "Error for rsid rs140945602: KeyError('rs140945602')\n",
      "Error for rsid rs144079028: KeyError('rs144079028')\n",
      "Error for rsid rs181270898: KeyError('rs181270898')\n",
      "Error for rsid rs181337095: KeyError('rs181337095')\n",
      "Error for rsid rs182731523: KeyError('rs182731523')\n",
      "Error for rsid rs190817902: KeyError('rs190817902')\n",
      "Error for rsid rs199501877: KeyError('rs199501877')\n",
      "Error for rsid rs200087884: KeyError('rs200087884')\n",
      "Error for rsid rs200255906: KeyError('rs200255906')\n",
      "Error for rsid rs201177249: KeyError('rs201177249')\n",
      "Error for rsid rs3029748: KeyError('rs3029748')\n",
      "Error for rsid rs201681753: KeyError('rs201681753')\n",
      "Error for rsid rs2384736: KeyError('rs2384736')\n",
      "Error for rsid rs34331122: KeyError('rs34331122')\n",
      "Error for rsid rs34546498: KeyError('rs34546498')\n",
      "Error for rsid rs375506010: KeyError('rs375506010')\n",
      "Error for rsid rs36715: KeyError('rs36715')\n",
      "Error for rsid rs368032757: KeyError('rs368032757')\n",
      "Error for rsid rs369304377: KeyError('rs369304377')\n",
      "Error for rsid rs377629160: KeyError('rs377629160')\n",
      "Error for rsid rs369574511: KeyError('rs369574511')\n",
      "Error for rsid rs56949123: KeyError('rs56949123')\n",
      "Error for rsid rs57275132: KeyError('rs57275132')\n",
      "Error for rsid rs5776993: KeyError('rs5776993')\n",
      "Error for rsid rs58327846: KeyError('rs58327846')\n",
      "Error for rsid rs60936670: KeyError('rs60936670')\n",
      "Error for rsid rs56333866: KeyError('rs56333866')\n",
      "Error for rsid rs57237364: KeyError('rs57237364')\n",
      "Error for rsid chr11:111742493: KeyError('chr11:111742493')\n",
      "Error for rsid chr11:18403271: KeyError('chr11:18403271')\n",
      "Error for rsid chr11:65601650: KeyError('chr11:65601650')\n",
      "Error for rsid chr11:9686139: KeyError('chr11:9686139')\n",
      "Error for rsid chr12:103097070: KeyError('chr12:103097070')\n",
      "Error for rsid chr12:111600134: KeyError('chr12:111600134')\n",
      "Error for rsid chr12:111720125: KeyError('chr12:111720125')\n",
      "Error for rsid chr12:111826477: KeyError('chr12:111826477')\n",
      "Error for rsid chr12:112007756: KeyError('chr12:112007756')\n",
      "Error for rsid chr12:112200150: KeyError('chr12:112200150')\n",
      "Error for rsid chr12:112610714: KeyError('chr12:112610714')\n",
      "Error for rsid chr12:112840766: KeyError('chr12:112840766')\n",
      "Error for rsid chr12:115108361: KeyError('chr12:115108361')\n",
      "Error for rsid chr12:115558575: KeyError('chr12:115558575')\n",
      "Error for rsid chr12:115835798: KeyError('chr12:115835798')\n",
      "Error for rsid chr12:115990594: KeyError('chr12:115990594')\n",
      "Error for rsid chr12:116347863: KeyError('chr12:116347863')\n",
      "Error for rsid chr12:120832146: KeyError('chr12:120832146')\n",
      "Error for rsid chr12:14413931: KeyError('chr12:14413931')\n",
      "Error for rsid chr12:28347382: KeyError('chr12:28347382')\n",
      "Error for rsid chr12:28452497: KeyError('chr12:28452497')\n",
      "Error for rsid chr12:28569325: KeyError('chr12:28569325')\n",
      "Error for rsid chr12:28672110: KeyError('chr12:28672110')\n",
      "Error for rsid chr12:28775813: KeyError('chr12:28775813')\n",
      "Error for rsid chr12:28928139: KeyError('chr12:28928139')\n",
      "Error for rsid chr12:29140260: KeyError('chr12:29140260')\n",
      "Error for rsid chr12:29247350: KeyError('chr12:29247350')\n",
      "Error for rsid chr12:29489004: KeyError('chr12:29489004')\n",
      "Error for rsid chr12:31952412: KeyError('chr12:31952412')\n",
      "Error for rsid chr12:57282235: KeyError('chr12:57282235')\n",
      "Error for rsid chr12:57484602: KeyError('chr12:57484602')\n",
      "Error for rsid chr12:57602279: KeyError('chr12:57602279')\n",
      "Error for rsid chr12:57848639: KeyError('chr12:57848639')\n",
      "Error for rsid chr12:59581708: KeyError('chr12:59581708')\n",
      "Error for rsid chr12:78820565: KeyError('chr12:78820565')\n",
      "Error for rsid chr12:83063443: KeyError('chr12:83063443')\n",
      "Error for rsid chr12:85009437: KeyError('chr12:85009437')\n",
      "Error for rsid chr12:96141866: KeyError('chr12:96141866')\n",
      "Error for rsid chr13:32866927: KeyError('chr13:32866927')\n",
      "Error for rsid chr14:35412105: KeyError('chr14:35412105')\n",
      "Error for rsid chr14:93112310: KeyError('chr14:93112310')\n",
      "Error for rsid chr15:86218049: KeyError('chr15:86218049')\n",
      "Error for rsid chr16:53908992: KeyError('chr16:53908992')\n",
      "Error for rsid chr17:44759766: KeyError('chr17:44759766')\n",
      "Error for rsid chr18:42517419: KeyError('chr18:42517419')\n",
      "Error for rsid chr4:187503860: KeyError('chr4:187503860')\n",
      "Error for rsid chr4:84370124: KeyError('chr4:84370124')\n",
      "Error for rsid chr5:43263364: KeyError('chr5:43263364')\n",
      "Error for rsid chr5:52482315: KeyError('chr5:52482315')\n",
      "Error for rsid chr6:151715281: KeyError('chr6:151715281')\n",
      "Error for rsid chr6:28709151: KeyError('chr6:28709151')\n",
      "Error for rsid chr6:32677587: KeyError('chr6:32677587')\n",
      "Error for rsid chrX:118630622: KeyError('chrX:118630622')\n",
      "Error for rsid rs112332509: KeyError('rs112332509')\n",
      "Error for rsid rs11284646: KeyError('rs11284646')\n",
      "Error for rsid rs11298677: KeyError('rs11298677')\n",
      "Error for rsid rs113780580: KeyError('rs113780580')\n",
      "Error for rsid rs66987842: KeyError('rs66987842')\n",
      "Error for rsid rs72314471: KeyError('rs72314471')\n",
      "Error for rsid rs72751936: KeyError('rs72751936')\n",
      "Error for rsid rs72755643: KeyError('rs72755643')\n",
      "Error for rsid chr12:96027759: KeyError('chr12:96027759')\n",
      "Error for rsid chr14:68118802: KeyError('chr14:68118802')\n",
      "Error for rsid chr17:43658516: KeyError('chr17:43658516')\n",
      "Error for rsid chr2:6178372: KeyError('chr2:6178372')\n",
      "Error for rsid chr5:58365353: KeyError('chr5:58365353')\n",
      "Error for rsid rs576603: KeyError('rs576603')\n",
      "Error for rsid chr17:44252468: KeyError('chr17:44252468')\n",
      "Error for rsid chr17:44184819: KeyError('chr17:44184819')\n",
      "Error for rsid rs10623258: KeyError('rs10623258')\n",
      "Error for rsid rs162277: KeyError('rs162277')\n",
      "Error for rsid chr1:34655226: KeyError('chr1:34655226')\n",
      "Error for rsid 4:84370124: KeyError('4:84370124')\n",
      "Error for rsid rs140936696: KeyError('rs140936696')\n",
      "Error for rsid rs8176636: KeyError('rs8176636')\n",
      "Error for rsid chr1:104145286: KeyError('chr1:104145286')\n",
      "Error for rsid chr1:168545508: KeyError('chr1:168545508')\n",
      "Error for rsid chr1:21023194: KeyError('chr1:21023194')\n",
      "Error for rsid chr1:45833328: KeyError('chr1:45833328')\n",
      "Error for rsid chr10:51462991: KeyError('chr10:51462991')\n",
      "Error for rsid chr17:29230520: KeyError('chr17:29230520')\n",
      "Error for rsid rs11249433: KeyError('rs11249433')\n",
      "Error for rsid rs146699004: KeyError('rs146699004')\n",
      "Error for rsid chr22:39359355: KeyError('chr22:39359355')\n",
      "Error for rsid rs11354714: KeyError('rs11354714')\n",
      "Error for rsid rs66823261: KeyError('rs66823261')\n",
      "Error for rsid rs67079557: KeyError('rs67079557')\n",
      "Error for rsid rs72127681: KeyError('rs72127681')\n",
      "Error for rsid rs369328859: KeyError('rs369328859')\n",
      "Error for rsid rs7918232: KeyError('rs7918232')\n",
      "Error for rsid rs80199833: KeyError('rs80199833')\n",
      "Error for rsid chr4:106507402: KeyError('chr4:106507402')\n",
      "Error for rsid chr5:49484480: KeyError('chr5:49484480')\n",
      "Error for rsid chr5:58680596: KeyError('chr5:58680596')\n",
      "Error for rsid rs1112956: KeyError('rs1112956')\n",
      "Error for rsid rs111780165: KeyError('rs111780165')\n",
      "Error for rsid rs72001329: KeyError('rs72001329')\n",
      "Error for rsid rs138060088: KeyError('rs138060088')\n",
      "Error for rsid rs142890050: KeyError('rs142890050')\n",
      "Error for rsid rs7834448: KeyError('rs7834448')\n",
      "Error for rsid rs78579487: KeyError('rs78579487')\n",
      "Error for rsid rs847577: KeyError('rs847577')\n",
      "Error for rsid rs79108280: KeyError('rs79108280')\n",
      "Error for rsid rs61495451: KeyError('rs61495451')\n",
      "Error for rsid rs11410354: KeyError('rs11410354')\n",
      "Error for rsid rs142427110: KeyError('rs142427110')\n",
      "Error for rsid rs116095464: KeyError('rs116095464')\n",
      "Error for rsid rs372562666: KeyError('rs372562666')\n",
      "Error for rsid rs368121891: KeyError('rs368121891')\n",
      "Error for rsid rs10871290: KeyError('rs10871290')\n",
      "Error for rsid rs200484318: KeyError('rs200484318')\n",
      "Error for rsid rs113953597: KeyError('rs113953597')\n",
      "Error for rsid rs56168262: KeyError('rs56168262')\n",
      "Error for rsid rs57968892: KeyError('rs57968892')\n",
      "Error for rsid rs187373836: KeyError('rs187373836')\n",
      "Error for rsid chr10:22336421: KeyError('chr10:22336421')\n",
      "Error for rsid rs12520604: KeyError('rs12520604')\n",
      "Error for rsid rs778040878: KeyError('rs778040878')\n",
      "Error for rsid rs189268208: KeyError('rs189268208')\n",
      "Error for rsid chr9:110303808: KeyError('chr9:110303808')\n",
      "Error for rsid rs11249433: KeyError('rs11249433')\n",
      "Error for rsid rs67500807: KeyError('rs67500807')\n",
      "Error for rsid rs71386921: KeyError('rs71386921')\n",
      "Error for rsid rs144366570: KeyError('rs144366570')\n",
      "Error for rsid chr12:69124241: KeyError('chr12:69124241')\n",
      "Error for rsid rs33960734: KeyError('rs33960734')\n",
      "Error for rsid rs149253773: KeyError('rs149253773')\n",
      "Error for rsid rs35409891: KeyError('rs35409891')\n",
      "Error for rsid rs35748790: KeyError('rs35748790')\n",
      "Error for rsid rs369832192: KeyError('rs369832192')\n",
      "Error for rsid rs61051244: KeyError('rs61051244')\n",
      "Error for rsid rs10695717: KeyError('rs10695717')\n",
      "Error for rsid rs111307654: KeyError('rs111307654')\n",
      "Error for rsid rs6449898: KeyError('rs6449898')\n",
      "Error for rsid chr9:136151579: KeyError('chr9:136151579')\n",
      "Error for rsid rs11146838: KeyError('rs11146838')\n",
      "Error for rsid chr12:29140260: KeyError('chr12:29140260')\n",
      "Error for rsid rs5776993: KeyError('rs5776993')\n",
      "Error for rsid rs142890050: KeyError('rs142890050')\n",
      "Error for rsid rs188092014: KeyError('rs188092014')\n",
      "Error for rsid rs150157076: KeyError('rs150157076')\n",
      "Error for rsid chr1:145126177: KeyError('chr1:145126177')\n",
      "Error for rsid rs141526427: KeyError('rs141526427')\n",
      "Error for rsid chr12:29140260: KeyError('chr12:29140260')\n",
      "Error for rsid rs139331653: KeyError('rs139331653')\n",
      "Error for rsid rs11249433: KeyError('rs11249433')\n",
      "Error for rsid chr10:123340431: KeyError('chr10:123340431')\n",
      "Error for rsid rs146383533: KeyError('rs146383533')\n",
      "Error for rsid rs112776581: KeyError('rs112776581')\n",
      "Error for rsid rs71801447: KeyError('rs71801447')\n",
      "Error for rsid chr5:45333860: KeyError('chr5:45333860')\n",
      "Error for rsid rs138044103: KeyError('rs138044103')\n",
      "Error for rsid rs377595512: KeyError('rs377595512')\n",
      "Error for rsid rs181337095: KeyError('rs181337095')\n",
      "Error for rsid rs181337095: KeyError('rs181337095')\n",
      "Error for rsid rs145901335: KeyError('rs145901335')\n",
      "Error for rsid chr1:149025528: KeyError('chr1:149025528')\n",
      "Error for rsid rs11249433: KeyError('rs11249433')\n",
      "Error for rsid rs10623258: KeyError('rs10623258')\n",
      "Error for rsid rs11249433: KeyError('rs11249433')\n",
      "Error for rsid rs71801447: KeyError('rs71801447')\n",
      "Error for rsid rs116095464: KeyError('rs116095464')\n",
      "Error for rsid rs35951924: KeyError('rs35951924')\n",
      "Error for rsid rs66823261: KeyError('rs66823261')\n",
      "Error for rsid rs140936696: KeyError('rs140936696')\n",
      "Error for rsid rs202049448: KeyError('rs202049448')\n",
      "Error for rsid rs146699004: KeyError('rs146699004')\n",
      "Error for rsid rs112776581: KeyError('rs112776581')\n",
      "Error for rsid 4:84370124: KeyError('4:84370124')\n",
      "Error for rsid chr13:32914174: KeyError('chr13:32914174')\n",
      "Error for rsid rs8176636: KeyError('rs8176636')\n",
      "Error for rsid rs66871326: KeyError('rs66871326')\n",
      "Error for rsid rs34072391: KeyError('rs34072391')\n",
      "Error for rsid rs112776581: KeyError('rs112776581')\n",
      "Error for rsid rs377595512: KeyError('rs377595512')\n",
      "Error for rsid rs11249433: KeyError('rs11249433')\n",
      "Error for rsid rs112776581: KeyError('rs112776581')\n",
      "Error for rsid rs397692178: KeyError('rs397692178')\n",
      "Error for rsid rs35054928: KeyError('rs35054928')\n",
      "Error for rsid rs57382399: KeyError('rs57382399')\n",
      "Error for rsid rs569369507: KeyError('rs569369507')\n",
      "Error for rsid rs4147562: KeyError('rs4147562')\n",
      "Error for rsid rs62408878: KeyError('rs62408878')\n"
     ]
    }
   ],
   "source": [
    "hgvs_idlist=[]\n",
    "\n",
    "for variant in associations.variantid.tolist():\n",
    "    \n",
    "    try:\n",
    "        hgvs_notation=str(variant_chromosomes[variant])+':g.'+str(variant_genomic_locations[variant])+str(variant_ancestral_alleles[variant])+'>'+str(variant_risk_alleles[variant])\n",
    "        hgvs_idlist.append(hgvs_notation)\n",
    "    except Exception as error:\n",
    "        print(f'Error for rsid {variant}: ' + repr(error))\n"
   ]
  },
  {
   "cell_type": "markdown",
   "id": "b7600a94",
   "metadata": {},
   "source": [
    "## We can see that we obtained a bunch of error because for many snps the information are missing, we can check for how many snps we couldn't retrieve the information"
   ]
  },
  {
   "cell_type": "code",
   "execution_count": 10,
   "id": "cb4f9528",
   "metadata": {},
   "outputs": [
    {
     "name": "stdout",
     "output_type": "stream",
     "text": [
      "we started with 1275 ids, \n",
      "      we were able to transform in hgvs notation 1076)\n"
     ]
    }
   ],
   "source": [
    "print(f\"\"\"we started with {len(set(associations.variantid.tolist()))} ids, \n",
    "      we were able to transform in hgvs notation {len(set(hgvs_idlist))})\"\"\")"
   ]
  },
  {
   "cell_type": "markdown",
   "id": "68e67558",
   "metadata": {},
   "source": [
    "## Run [VEP](https://www.ensembl.org/Tools/VEP) from command line"
   ]
  },
  {
   "cell_type": "code",
   "execution_count": 17,
   "id": "07fe7cdc",
   "metadata": {},
   "outputs": [
    {
     "name": "stdout",
     "output_type": "stream",
     "text": [
      "total number of chunks: 9\n",
      "chunk 0 processed\n",
      "chunk 1 processed\n",
      "chunk 2 processed\n",
      "chunk 3 processed\n",
      "chunk 4 processed\n",
      "chunk 5 processed\n",
      "chunk 6 processed\n",
      "chunk 7 processed\n",
      "chunk 8 processed\n",
      "CPU times: user 314 ms, sys: 16.9 ms, total: 331 ms\n",
      "Wall time: 6min 57s\n"
     ]
    }
   ],
   "source": [
    "trans,reg,inter,motif=gp.HGVS_VEP(hgvs_idlist)"
   ]
  },
  {
   "cell_type": "code",
   "execution_count": 44,
   "id": "49432cb5",
   "metadata": {},
   "outputs": [
    {
     "data": {
      "text/plain": [
       "[('12:g.28021884C>T', ['TF_binding_site_variant'], ['TFAP4::MAX'], -0.066),\n",
       " ('1:g.113905767C>T', ['TF_binding_site_variant'], ['GCM1::ELF1'], -0.006),\n",
       " ('12:g.28021884C>T', ['TF_binding_site_variant'], ['TFAP4::MAX'], -0.066),\n",
       " ('6:g.28958443G>C',\n",
       "  ['TF_binding_site_variant'],\n",
       "  ['XBP1', 'CREB3', 'CREB3L1'],\n",
       "  -0.117),\n",
       " ('6:g.28958443G>C', ['TF_binding_site_variant'], ['CREB3L1'], -0.121),\n",
       " ('7:g.130982362C>T', ['TF_binding_site_variant'], ['TFAP2C::MAX'], -0.037),\n",
       " ('7:g.130982362C>T', ['TF_binding_site_variant'], ['GCM1::MAX'], 0.007),\n",
       " ('7:g.130982362C>T', ['TF_binding_site_variant'], ['GCM2::MAX'], -0.027),\n",
       " ('7:g.130982362C>T', ['TF_binding_site_variant'], ['GCM1::MAX'], -0.028),\n",
       " ('7:g.130982362C>T', ['TF_binding_site_variant'], ['TFAP2C::MAX'], -0.003)]"
      ]
     },
     "execution_count": 44,
     "metadata": {},
     "output_type": "execute_result"
    }
   ],
   "source": [
    "motif[:10]"
   ]
  },
  {
   "cell_type": "markdown",
   "id": "0e796c95",
   "metadata": {},
   "source": [
    "The result is a list of tuple with that reports every effect for each variant. VEP separates the effects in transcript effects, regulatory effects, non coding effects and regulatory motif effects. Every result is separated and stored in different variables."
   ]
  },
  {
   "cell_type": "markdown",
   "id": "e4e13743",
   "metadata": {},
   "source": [
    "## Plot the results\n",
    "\n",
    "Retrieve the consequence names "
   ]
  },
  {
   "cell_type": "code",
   "execution_count": 76,
   "id": "7db3bfb6",
   "metadata": {},
   "outputs": [],
   "source": [
    "consequences=sum([tup[1] for tup in trans]+[tup[1] for tup in reg]+[tup[1] for tup in inter]+[tup[1] for tup in motif],[])"
   ]
  },
  {
   "cell_type": "code",
   "execution_count": 87,
   "id": "694f53f9",
   "metadata": {
    "scrolled": false
   },
   "outputs": [
    {
     "data": {
      "image/png": "[encoded data removed]",
      "text/plain": [
       "<Figure size 1440x720 with 1 Axes>"
      ]
     },
     "metadata": {},
     "output_type": "display_data"
    }
   ],
   "source": [
    "PlotVEPResults(consequences)"
   ]
  },
  {
   "cell_type": "markdown",
   "id": "75e22f4b",
   "metadata": {},
   "source": [
    "The majority of the variants falls in intronic regions so is not clear which would be the effect on transcripts. However there are also missense variants and stop gained variants that could hinder the function of a specific gene. Finally, expecially for complex traits such as breast cancer, it would be interesting to inspect the effect of these variant on specific neighbouring genes. In fact, most likely, the variants will have a regulatory effect, affecting trnscription factor binding sites, enhanchers or CTCF. \n",
    "\n",
    "<b> One possible approach could be to investigate the mapped genes and see what are the pathways that could be affected by these variants"
   ]
  },
  {
   "cell_type": "markdown",
   "id": "4a7065af",
   "metadata": {},
   "source": [
    "# Find the positions of the genes mapped to specific variants\n"
   ]
  },
  {
   "cell_type": "code",
   "execution_count": 17,
   "id": "5aa36147",
   "metadata": {},
   "outputs": [
    {
     "data": {
      "text/plain": [
       "['ZNF365',\n",
       " 'FGFR2',\n",
       " 'TOX3',\n",
       " 'MRPS30',\n",
       " 'FGFR2',\n",
       " 'MAP3K1',\n",
       " 'LSP1',\n",
       " 'TNRC9',\n",
       " 'TOX3',\n",
       " 'FGFR2']"
      ]
     },
     "execution_count": 17,
     "metadata": {},
     "output_type": "execute_result"
    }
   ],
   "source": [
    "mapped_genes=sum(associations.mapped_gene.tolist(),[])\n",
    "mapped_genes=[gene for gene in mapped_genes if gene !=\"intergenic\"]\n",
    "mapped_genes[:10]"
   ]
  },
  {
   "cell_type": "markdown",
   "id": "cc694b78",
   "metadata": {},
   "source": [
    "## Map Gene Symbol to Ensemble ID\n",
    "\n",
    "For this task we will use another library named <b>[biomapy](https://pypi.org/project/biomapy/)"
   ]
  },
  {
   "cell_type": "code",
   "execution_count": null,
   "id": "d6641b3e",
   "metadata": {},
   "outputs": [],
   "source": [
    "!pip install biomapy"
   ]
  },
  {
   "cell_type": "code",
   "execution_count": 18,
   "id": "932eab11",
   "metadata": {},
   "outputs": [
    {
     "data": {
      "text/plain": [
       "['ENSG00000138311',\n",
       " 'ENSG00000066468',\n",
       " 'ENSG00000103460',\n",
       " 'ENSG00000112996',\n",
       " 'ENSG00000066468',\n",
       " 'ENSG00000095015',\n",
       " 'ENSG00000130592',\n",
       " 'ENSG00000103460',\n",
       " 'ENSG00000066468',\n",
       " 'ENSG00000166147']"
      ]
     },
     "execution_count": 18,
     "metadata": {},
     "output_type": "execute_result"
    }
   ],
   "source": [
    "import biomapy as bp\n",
    "\n",
    "mapped_genes_ens=bp.gene_mapping_many(mapped_genes,'symbol','ensembl')\n",
    "mapped_genes_ens = list(filter(None,mapped_genes_ens))\n",
    "mapped_genes_ens[:10]"
   ]
  },
  {
   "cell_type": "markdown",
   "id": "e7d41803",
   "metadata": {},
   "source": [
    "## Retrieve the position of all the genes"
   ]
  },
  {
   "cell_type": "code",
   "execution_count": 19,
   "id": "82fb3023",
   "metadata": {
    "scrolled": true
   },
   "outputs": [
    {
     "name": "stdout",
     "output_type": "stream",
     "text": [
      "total number of chunks: 3\n",
      "chunk 0 processed\n",
      "Couldn't retrieve position for gene ENSG00000129682\n",
      "Couldn't retrieve position for gene ENSG00000129675\n",
      "chunk 1 processed\n",
      "chunk 2 processed\n"
     ]
    },
    {
     "data": {
      "text/plain": [
       "[('ENSG00000105656', 19, 18442663, 18522116),\n",
       " ('ENSG00000151715', 11, 129815848, 129860003),\n",
       " ('ENSG00000166147', 15, 48408313, 48645721),\n",
       " ('ENSG00000043039', 11, 129375848, 129452279),\n",
       " ('ENSG00000093144', 6, 127288712, 127343609),\n",
       " ('ENSG00000091831', 6, 151656691, 152129619),\n",
       " ('ENSG00000228408', 6, 149217926, 149245554),\n",
       " ('ENSG00000164379', 6, 1312098, 1314758),\n",
       " ('ENSG00000198807', 14, 36657568, 36679362),\n",
       " ('ENSG00000033867', 3, 27372721, 27484420)]"
      ]
     },
     "execution_count": 19,
     "metadata": {},
     "output_type": "execute_result"
    }
   ],
   "source": [
    "gene_positions=gp.get_gene_position_many(mapped_genes_ens)\n",
    "gene_positions[:10]"
   ]
  },
  {
   "cell_type": "markdown",
   "id": "c0de205b",
   "metadata": {},
   "source": [
    "# Lift Coordinates\n",
    "\n",
    "Genopyc give the possibility to lift coordinates, this can be useful for a small amount of data. For bigger queries refer to [ensembl](https://www.ensembl.org/Homo_sapiens/Tools/AssemblyConverter) or [UCSC](https://genome.ucsc.edu/cgi-bin/hgLiftOver) dedicated tools."
   ]
  },
  {
   "cell_type": "code",
   "execution_count": 20,
   "id": "117e2442",
   "metadata": {},
   "outputs": [
    {
     "data": {
      "text/plain": [
       "[('ENSG00000105656', (19, 18553473, 18632926)),\n",
       " ('ENSG00000151715', (11, 129685743, 129729898)),\n",
       " ('ENSG00000166147', (15, 48700510, 48937918)),\n",
       " ('ENSG00000043039', (11, 129245743, 129322174)),\n",
       " ('ENSG00000093144', (6, 127609857, 127664754)),\n",
       " ('ENSG00000091831', (6, 151977826, 152450754)),\n",
       " ('ENSG00000228408', (6, 149539062, 149566690)),\n",
       " ('ENSG00000164379', (6, 1312333, 1314993)),\n",
       " ('ENSG00000198807', (14, 37126773, 37148567)),\n",
       " ('ENSG00000033867', (3, 27414212, 27525911))]"
      ]
     },
     "execution_count": 20,
     "metadata": {},
     "output_type": "execute_result"
    }
   ],
   "source": [
    "g37_gene_positions=[(gene,gp.grch_liftover(chromosome,start,end,source='GRCh38',target='GRCh37')) for (gene,chromosome,start,end) in gene_positions]\n",
    "\n",
    "g37_gene_positions[:10]"
   ]
  },
  {
   "cell_type": "markdown",
   "id": "9f9643b2",
   "metadata": {},
   "source": [
    "One Interesting approach could be to investigate expression quantitative trait loci (eqtls) for a given variant. \n",
    "These studies correlate genetic variations with the altered expression of a gene, more likely the variation have an effect on the expression of that specific candidate.\n",
    "\n",
    "# Eqtls\n",
    "\n",
    "Genopyc allows you to retrieve all the eqtls of a given variant the code. Data are fetched from [EBI](https://www.ebi.ac.uk/eqtl/). [Documentation](https://www.ebi.ac.uk/eqtl/api-docs/#accessing-the-api) available."
   ]
  },
  {
   "cell_type": "code",
   "execution_count": 9,
   "id": "faf65289",
   "metadata": {
    "scrolled": false
   },
   "outputs": [
    {
     "name": "stdout",
     "output_type": "stream",
     "text": [
      "'_embedded' {'message': 'Bad request. Could not interpret variant ID format from the value provided: chr22:39359355', 'error': 'Bad User Request', 'status': 400}\n",
      "'_embedded' {'message': 'Bad request. Could not interpret variant ID format from the value provided: chr10:123340431', 'status': 400, 'error': 'Bad User Request'}\n"
     ]
    }
   ],
   "source": [
    "eqtls_dict={rsid:gp.get_eqtl_df(rsid) for rsid in variants[:10]}"
   ]
  },
  {
   "cell_type": "code",
   "execution_count": 15,
   "id": "2d400708",
   "metadata": {},
   "outputs": [
    {
     "data": {
      "text/html": [
       "<div>\n",
       "<style scoped>\n",
       "    .dataframe tbody tr th:only-of-type {\n",
       "        vertical-align: middle;\n",
       "    }\n",
       "\n",
       "    .dataframe tbody tr th {\n",
       "        vertical-align: top;\n",
       "    }\n",
       "\n",
       "    .dataframe thead th {\n",
       "        text-align: right;\n",
       "    }\n",
       "</style>\n",
       "<table border=\"1\" class=\"dataframe\">\n",
       "  <thead>\n",
       "    <tr style=\"text-align: right;\">\n",
       "      <th></th>\n",
       "      <th>variantid</th>\n",
       "      <th>p_value</th>\n",
       "      <th>log_pval</th>\n",
       "      <th>beta</th>\n",
       "      <th>alt</th>\n",
       "      <th>gene_id</th>\n",
       "      <th>tissue</th>\n",
       "      <th>study_id</th>\n",
       "    </tr>\n",
       "  </thead>\n",
       "  <tbody>\n",
       "    <tr>\n",
       "      <th>0</th>\n",
       "      <td>rs6557160</td>\n",
       "      <td>2.983820e-03</td>\n",
       "      <td>2.525227</td>\n",
       "      <td>0.141121</td>\n",
       "      <td>C</td>\n",
       "      <td>ENSG00000120262</td>\n",
       "      <td>CL_0002057</td>\n",
       "      <td>BLUEPRINT</td>\n",
       "    </tr>\n",
       "    <tr>\n",
       "      <th>1</th>\n",
       "      <td>rs6557160</td>\n",
       "      <td>2.284750e-04</td>\n",
       "      <td>3.641161</td>\n",
       "      <td>0.138991</td>\n",
       "      <td>C</td>\n",
       "      <td>ENSG00000120262</td>\n",
       "      <td>UBERON_0009834</td>\n",
       "      <td>BrainSeq</td>\n",
       "    </tr>\n",
       "    <tr>\n",
       "      <th>2</th>\n",
       "      <td>rs6557160</td>\n",
       "      <td>2.330520e-06</td>\n",
       "      <td>5.632547</td>\n",
       "      <td>0.190703</td>\n",
       "      <td>C</td>\n",
       "      <td>ENSG00000120262</td>\n",
       "      <td>UBERON_0001013</td>\n",
       "      <td>FUSION</td>\n",
       "    </tr>\n",
       "    <tr>\n",
       "      <th>3</th>\n",
       "      <td>rs6557160</td>\n",
       "      <td>1.378740e-03</td>\n",
       "      <td>2.860518</td>\n",
       "      <td>0.110726</td>\n",
       "      <td>C</td>\n",
       "      <td>ENSG00000120262</td>\n",
       "      <td>UBER_0010414</td>\n",
       "      <td>GTEx_V8</td>\n",
       "    </tr>\n",
       "    <tr>\n",
       "      <th>4</th>\n",
       "      <td>rs6557160</td>\n",
       "      <td>2.744960e-04</td>\n",
       "      <td>3.561464</td>\n",
       "      <td>0.155806</td>\n",
       "      <td>C</td>\n",
       "      <td>ENSG00000120262</td>\n",
       "      <td>UBER_0002369</td>\n",
       "      <td>GTEx_V8</td>\n",
       "    </tr>\n",
       "    <tr>\n",
       "      <th>5</th>\n",
       "      <td>rs6557160</td>\n",
       "      <td>1.786010e-04</td>\n",
       "      <td>3.748116</td>\n",
       "      <td>0.311096</td>\n",
       "      <td>C</td>\n",
       "      <td>ENSG00000120262</td>\n",
       "      <td>UBER_0009834</td>\n",
       "      <td>GTEx_V8</td>\n",
       "    </tr>\n",
       "    <tr>\n",
       "      <th>6</th>\n",
       "      <td>rs6557160</td>\n",
       "      <td>2.652030e-06</td>\n",
       "      <td>5.576422</td>\n",
       "      <td>0.407141</td>\n",
       "      <td>C</td>\n",
       "      <td>ENSG00000120262</td>\n",
       "      <td>UBER_0002038</td>\n",
       "      <td>GTEx_V8</td>\n",
       "    </tr>\n",
       "    <tr>\n",
       "      <th>7</th>\n",
       "      <td>rs6557160</td>\n",
       "      <td>4.975410e-03</td>\n",
       "      <td>2.303171</td>\n",
       "      <td>-0.178601</td>\n",
       "      <td>C</td>\n",
       "      <td>ENSG00000146476</td>\n",
       "      <td>UBER_0006330</td>\n",
       "      <td>GTEx_V8</td>\n",
       "    </tr>\n",
       "    <tr>\n",
       "      <th>8</th>\n",
       "      <td>rs6557160</td>\n",
       "      <td>2.253510e-03</td>\n",
       "      <td>2.647141</td>\n",
       "      <td>-0.191794</td>\n",
       "      <td>C</td>\n",
       "      <td>ENSG00000120254</td>\n",
       "      <td>UBER_0000007</td>\n",
       "      <td>GTEx_V8</td>\n",
       "    </tr>\n",
       "    <tr>\n",
       "      <th>9</th>\n",
       "      <td>rs6557160</td>\n",
       "      <td>2.607860e-03</td>\n",
       "      <td>2.583716</td>\n",
       "      <td>-0.046449</td>\n",
       "      <td>C</td>\n",
       "      <td>ENSG00000181472</td>\n",
       "      <td>CL_0002057</td>\n",
       "      <td>Quach_2016</td>\n",
       "    </tr>\n",
       "    <tr>\n",
       "      <th>10</th>\n",
       "      <td>rs6557160</td>\n",
       "      <td>2.018950e-07</td>\n",
       "      <td>6.694874</td>\n",
       "      <td>0.160266</td>\n",
       "      <td>C</td>\n",
       "      <td>ENSG00000120262</td>\n",
       "      <td>UBERON_0009834</td>\n",
       "      <td>ROSMAP</td>\n",
       "    </tr>\n",
       "    <tr>\n",
       "      <th>11</th>\n",
       "      <td>rs6557160</td>\n",
       "      <td>4.457840e-04</td>\n",
       "      <td>3.350876</td>\n",
       "      <td>0.126174</td>\n",
       "      <td>C</td>\n",
       "      <td>ENSG00000120262</td>\n",
       "      <td>CL_0002057</td>\n",
       "      <td>Schmiedel_2018</td>\n",
       "    </tr>\n",
       "    <tr>\n",
       "      <th>12</th>\n",
       "      <td>rs6557160</td>\n",
       "      <td>1.596060e-03</td>\n",
       "      <td>2.796951</td>\n",
       "      <td>0.579063</td>\n",
       "      <td>C</td>\n",
       "      <td>ENSG00000120262</td>\n",
       "      <td>CL_0000101</td>\n",
       "      <td>Schwartzentruber_2018</td>\n",
       "    </tr>\n",
       "    <tr>\n",
       "      <th>13</th>\n",
       "      <td>rs6557160</td>\n",
       "      <td>3.640900e-03</td>\n",
       "      <td>2.438791</td>\n",
       "      <td>0.100753</td>\n",
       "      <td>C</td>\n",
       "      <td>ENSG00000226599</td>\n",
       "      <td>UBERON_0002097</td>\n",
       "      <td>TwinsUK</td>\n",
       "    </tr>\n",
       "  </tbody>\n",
       "</table>\n",
       "</div>"
      ],
      "text/plain": [
       "    variantid       p_value  log_pval      beta alt          gene_id  \\\n",
       "0   rs6557160  2.983820e-03  2.525227  0.141121   C  ENSG00000120262   \n",
       "1   rs6557160  2.284750e-04  3.641161  0.138991   C  ENSG00000120262   \n",
       "2   rs6557160  2.330520e-06  5.632547  0.190703   C  ENSG00000120262   \n",
       "3   rs6557160  1.378740e-03  2.860518  0.110726   C  ENSG00000120262   \n",
       "4   rs6557160  2.744960e-04  3.561464  0.155806   C  ENSG00000120262   \n",
       "5   rs6557160  1.786010e-04  3.748116  0.311096   C  ENSG00000120262   \n",
       "6   rs6557160  2.652030e-06  5.576422  0.407141   C  ENSG00000120262   \n",
       "7   rs6557160  4.975410e-03  2.303171 -0.178601   C  ENSG00000146476   \n",
       "8   rs6557160  2.253510e-03  2.647141 -0.191794   C  ENSG00000120254   \n",
       "9   rs6557160  2.607860e-03  2.583716 -0.046449   C  ENSG00000181472   \n",
       "10  rs6557160  2.018950e-07  6.694874  0.160266   C  ENSG00000120262   \n",
       "11  rs6557160  4.457840e-04  3.350876  0.126174   C  ENSG00000120262   \n",
       "12  rs6557160  1.596060e-03  2.796951  0.579063   C  ENSG00000120262   \n",
       "13  rs6557160  3.640900e-03  2.438791  0.100753   C  ENSG00000226599   \n",
       "\n",
       "            tissue               study_id  \n",
       "0       CL_0002057              BLUEPRINT  \n",
       "1   UBERON_0009834               BrainSeq  \n",
       "2   UBERON_0001013                 FUSION  \n",
       "3     UBER_0010414                GTEx_V8  \n",
       "4     UBER_0002369                GTEx_V8  \n",
       "5     UBER_0009834                GTEx_V8  \n",
       "6     UBER_0002038                GTEx_V8  \n",
       "7     UBER_0006330                GTEx_V8  \n",
       "8     UBER_0000007                GTEx_V8  \n",
       "9       CL_0002057             Quach_2016  \n",
       "10  UBERON_0009834                 ROSMAP  \n",
       "11      CL_0002057         Schmiedel_2018  \n",
       "12      CL_0000101  Schwartzentruber_2018  \n",
       "13  UBERON_0002097                TwinsUK  "
      ]
     },
     "execution_count": 15,
     "metadata": {},
     "output_type": "execute_result"
    }
   ],
   "source": [
    "eqtls_dict['rs6557160']"
   ]
  },
  {
   "cell_type": "markdown",
   "id": "78f9e34f",
   "metadata": {},
   "source": [
    "# Overlapping Elements\n",
    "\n",
    "Genopyc allows the user to retrieve the elements in a genomic area (band, gene, transcript, cds, exon, repeat, simple, misc, variation, somatic_variation, structural_variation, somatic_structural_variation, constrained, regulatory, motif, other_regulatory, array_probe, mane) "
   ]
  },
  {
   "cell_type": "code",
   "execution_count": 5,
   "id": "2f359d1c",
   "metadata": {},
   "outputs": [
    {
     "data": {
      "text/plain": [
       "[{'external_name': 'CLGN',\n",
       "  'id': 'ENSG00000153132',\n",
       "  'end': 140427661,\n",
       "  'start': 140388453,\n",
       "  'gene_id': 'ENSG00000153132',\n",
       "  'assembly_name': 'GRCh38',\n",
       "  'description': 'calmegin [Source:HGNC Symbol;Acc:HGNC:2060]',\n",
       "  'feature_type': 'gene',\n",
       "  'source': 'ensembl_havana',\n",
       "  'strand': -1,\n",
       "  'seq_region_name': '4',\n",
       "  'version': 13,\n",
       "  'logic_name': 'ensembl_havana_gene_homo_sapiens',\n",
       "  'canonical_transcript': 'ENST00000325617.10',\n",
       "  'biotype': 'protein_coding'},\n",
       " {'description': 'MGAT4 family member D [Source:HGNC Symbol;Acc:HGNC:43619]',\n",
       "  'feature_type': 'gene',\n",
       "  'source': 'ensembl_havana',\n",
       "  'strand': -1,\n",
       "  'seq_region_name': '4',\n",
       "  'gene_id': 'ENSG00000205301',\n",
       "  'assembly_name': 'GRCh38',\n",
       "  'biotype': 'protein_coding',\n",
       "  'version': 12,\n",
       "  'canonical_transcript': 'ENST00000511113.6',\n",
       "  'logic_name': 'ensembl_havana_gene_homo_sapiens',\n",
       "  'external_name': 'MGAT4D',\n",
       "  'id': 'ENSG00000205301',\n",
       "  'end': 140498377,\n",
       "  'start': 140442262},\n",
       " {'id': 'ENSG00000280262',\n",
       "  'end': 140501330,\n",
       "  'start': 140498402,\n",
       "  'gene_id': 'ENSG00000280262',\n",
       "  'assembly_name': 'GRCh38',\n",
       "  'description': 'tec',\n",
       "  'feature_type': 'gene',\n",
       "  'source': 'havana',\n",
       "  'strand': 1,\n",
       "  'seq_region_name': '4',\n",
       "  'version': 1,\n",
       "  'canonical_transcript': 'ENST00000624981.1',\n",
       "  'logic_name': 'havana_homo_sapiens',\n",
       "  'biotype': 'TEC'},\n",
       " {'end': 140553770,\n",
       "  'start': 140524168,\n",
       "  'external_name': 'ELMOD2',\n",
       "  'id': 'ENSG00000179387',\n",
       "  'version': 10,\n",
       "  'logic_name': 'ensembl_havana_gene_homo_sapiens',\n",
       "  'canonical_transcript': 'ENST00000323570.8',\n",
       "  'biotype': 'protein_coding',\n",
       "  'gene_id': 'ENSG00000179387',\n",
       "  'assembly_name': 'GRCh38',\n",
       "  'description': 'ELMO domain containing 2 [Source:HGNC Symbol;Acc:HGNC:28111]',\n",
       "  'feature_type': 'gene',\n",
       "  'source': 'ensembl_havana',\n",
       "  'strand': 1,\n",
       "  'seq_region_name': '4'},\n",
       " {'canonical_transcript': 'ENST00000262999.4',\n",
       "  'logic_name': 'ensembl_havana_gene_homo_sapiens',\n",
       "  'version': 4,\n",
       "  'biotype': 'protein_coding',\n",
       "  'assembly_name': 'GRCh38',\n",
       "  'gene_id': 'ENSG00000109424',\n",
       "  'seq_region_name': '4',\n",
       "  'description': 'uncoupling protein 1 [Source:HGNC Symbol;Acc:HGNC:12517]',\n",
       "  'feature_type': 'gene',\n",
       "  'source': 'ensembl_havana',\n",
       "  'strand': -1,\n",
       "  'start': 140559431,\n",
       "  'end': 140568961,\n",
       "  'id': 'ENSG00000109424',\n",
       "  'external_name': 'UCP1'},\n",
       " {'start': 140577845,\n",
       "  'end': 140579657,\n",
       "  'id': 'ENSG00000287449',\n",
       "  'canonical_transcript': 'ENST00000669079.1',\n",
       "  'logic_name': 'havana_tagene_homo_sapiens',\n",
       "  'version': 1,\n",
       "  'biotype': 'lncRNA',\n",
       "  'assembly_name': 'GRCh38',\n",
       "  'gene_id': 'ENSG00000287449',\n",
       "  'seq_region_name': '4',\n",
       "  'feature_type': 'gene',\n",
       "  'source': 'havana_tagene',\n",
       "  'strand': 1,\n",
       "  'description': 'novel transcript'},\n",
       " {'version': 3,\n",
       "  'logic_name': 'ncrna_homo_sapiens',\n",
       "  'canonical_transcript': 'ENST00000484176.3',\n",
       "  'biotype': 'misc_RNA',\n",
       "  'gene_id': 'ENSG00000242102',\n",
       "  'assembly_name': 'GRCh38',\n",
       "  'source': 'ensembl',\n",
       "  'feature_type': 'gene',\n",
       "  'strand': 1,\n",
       "  'description': 'RNA, 7SL, cytoplasmic 152, pseudogene [Source:HGNC Symbol;Acc:HGNC:46168]',\n",
       "  'seq_region_name': '4',\n",
       "  'end': 140578222,\n",
       "  'start': 140577925,\n",
       "  'external_name': 'RN7SL152P',\n",
       "  'id': 'ENSG00000242102'},\n",
       " {'end': 140600575,\n",
       "  'start': 140600401,\n",
       "  'id': 'ENSG00000248621',\n",
       "  'version': 2,\n",
       "  'logic_name': 'havana_homo_sapiens',\n",
       "  'canonical_transcript': 'ENST00000512540.2',\n",
       "  'biotype': 'processed_pseudogene',\n",
       "  'gene_id': 'ENSG00000248621',\n",
       "  'assembly_name': 'GRCh38',\n",
       "  'feature_type': 'gene',\n",
       "  'source': 'havana',\n",
       "  'description': 'riboflavin kinase (RFK) pseudogene',\n",
       "  'strand': -1,\n",
       "  'seq_region_name': '4'},\n",
       " {'start': 140620782,\n",
       "  'end': 140756385,\n",
       "  'id': 'ENSG00000109436',\n",
       "  'external_name': 'TBC1D9',\n",
       "  'logic_name': 'ensembl_havana_gene_homo_sapiens',\n",
       "  'canonical_transcript': 'ENST00000442267.3',\n",
       "  'version': 8,\n",
       "  'biotype': 'protein_coding',\n",
       "  'assembly_name': 'GRCh38',\n",
       "  'gene_id': 'ENSG00000109436',\n",
       "  'seq_region_name': '4',\n",
       "  'feature_type': 'gene',\n",
       "  'strand': -1,\n",
       "  'source': 'ensembl_havana',\n",
       "  'description': 'TBC1 domain family member 9 [Source:HGNC Symbol;Acc:HGNC:21710]'}]"
      ]
     },
     "execution_count": 5,
     "metadata": {},
     "output_type": "execute_result"
    }
   ],
   "source": [
    "genes_in_the_region = gp.get_ov_region(4,140424943,140624564,features=['gene'])\n",
    "genes_in_the_region"
   ]
  },
  {
   "cell_type": "code",
   "execution_count": 7,
   "id": "e5ffdccf",
   "metadata": {},
   "outputs": [
    {
     "data": {
      "text/html": [
       "<div>\n",
       "<style scoped>\n",
       "    .dataframe tbody tr th:only-of-type {\n",
       "        vertical-align: middle;\n",
       "    }\n",
       "\n",
       "    .dataframe tbody tr th {\n",
       "        vertical-align: top;\n",
       "    }\n",
       "\n",
       "    .dataframe thead th {\n",
       "        text-align: right;\n",
       "    }\n",
       "</style>\n",
       "<table border=\"1\" class=\"dataframe\">\n",
       "  <thead>\n",
       "    <tr style=\"text-align: right;\">\n",
       "      <th></th>\n",
       "      <th>geneID</th>\n",
       "      <th>ensID</th>\n",
       "      <th>biotype</th>\n",
       "    </tr>\n",
       "  </thead>\n",
       "  <tbody>\n",
       "    <tr>\n",
       "      <th>0</th>\n",
       "      <td>CLGN</td>\n",
       "      <td>ENSG00000153132</td>\n",
       "      <td>protein_coding</td>\n",
       "    </tr>\n",
       "    <tr>\n",
       "      <th>1</th>\n",
       "      <td>MGAT4D</td>\n",
       "      <td>ENSG00000205301</td>\n",
       "      <td>protein_coding</td>\n",
       "    </tr>\n",
       "    <tr>\n",
       "      <th>2</th>\n",
       "      <td>ELMOD2</td>\n",
       "      <td>ENSG00000179387</td>\n",
       "      <td>protein_coding</td>\n",
       "    </tr>\n",
       "    <tr>\n",
       "      <th>3</th>\n",
       "      <td>UCP1</td>\n",
       "      <td>ENSG00000109424</td>\n",
       "      <td>protein_coding</td>\n",
       "    </tr>\n",
       "    <tr>\n",
       "      <th>4</th>\n",
       "      <td>TBC1D9</td>\n",
       "      <td>ENSG00000109436</td>\n",
       "      <td>protein_coding</td>\n",
       "    </tr>\n",
       "  </tbody>\n",
       "</table>\n",
       "</div>"
      ],
      "text/plain": [
       "   geneID            ensID         biotype\n",
       "0    CLGN  ENSG00000153132  protein_coding\n",
       "1  MGAT4D  ENSG00000205301  protein_coding\n",
       "2  ELMOD2  ENSG00000179387  protein_coding\n",
       "3    UCP1  ENSG00000109424  protein_coding\n",
       "4  TBC1D9  ENSG00000109436  protein_coding"
      ]
     },
     "execution_count": 7,
     "metadata": {},
     "output_type": "execute_result"
    }
   ],
   "source": [
    "# We will prettify the results in order to get a Pandas dataframe for only the protein coding genes\n",
    "\n",
    "protein_coding_info = [(r['external_name'],r['id'],r['biotype']) for r in genes_in_the_region if r['biotype'] == 'protein_coding']\n",
    "\n",
    "genes_in_the_region_df = pd.DataFrame(protein_coding_info,columns=['geneID','ensID','biotype'])\n",
    "genes_in_the_region_df"
   ]
  },
  {
   "cell_type": "markdown",
   "id": "b88e42ac",
   "metadata": {},
   "source": [
    "## The same can be done with rsids"
   ]
  },
  {
   "cell_type": "code",
   "execution_count": 2,
   "id": "8c8c6972",
   "metadata": {},
   "outputs": [
    {
     "data": {
      "text/plain": [
       "[{'feature_type': 'variation',\n",
       "  'clinical_significance': [],\n",
       "  'end': 32860001,\n",
       "  'seq_region_name': '7',\n",
       "  'start': 32860001,\n",
       "  'alleles': ['T', 'C'],\n",
       "  'assembly_name': 'GRCh38',\n",
       "  'consequence_type': 'intergenic_variant',\n",
       "  'id': 'rs1411072131',\n",
       "  'strand': 1,\n",
       "  'source': 'dbSNP'},\n",
       " {'start': 32860002,\n",
       "  'consequence_type': 'intergenic_variant',\n",
       "  'assembly_name': 'GRCh38',\n",
       "  'alleles': ['G', 'A'],\n",
       "  'id': 'rs1054004565',\n",
       "  'source': 'dbSNP',\n",
       "  'strand': 1,\n",
       "  'feature_type': 'variation',\n",
       "  'clinical_significance': [],\n",
       "  'end': 32860002,\n",
       "  'seq_region_name': '7'},\n",
       " {'start': 32860003,\n",
       "  'assembly_name': 'GRCh38',\n",
       "  'alleles': ['T', 'TT'],\n",
       "  'consequence_type': 'intergenic_variant',\n",
       "  'id': 'rs1468441306',\n",
       "  'strand': 1,\n",
       "  'source': 'dbSNP',\n",
       "  'feature_type': 'variation',\n",
       "  'clinical_significance': [],\n",
       "  'end': 32860003,\n",
       "  'seq_region_name': '7'},\n",
       " {'assembly_name': 'GRCh38',\n",
       "  'alleles': ['TTTT', 'TT'],\n",
       "  'consequence_type': 'intergenic_variant',\n",
       "  'start': 32860006,\n",
       "  'source': 'dbSNP',\n",
       "  'strand': 1,\n",
       "  'id': 'rs1171703244',\n",
       "  'end': 32860009,\n",
       "  'clinical_significance': [],\n",
       "  'seq_region_name': '7',\n",
       "  'feature_type': 'variation'},\n",
       " {'seq_region_name': '7',\n",
       "  'clinical_significance': [],\n",
       "  'end': 32860017,\n",
       "  'feature_type': 'variation',\n",
       "  'source': 'dbSNP',\n",
       "  'strand': 1,\n",
       "  'id': 'rs894063101',\n",
       "  'consequence_type': 'intergenic_variant',\n",
       "  'assembly_name': 'GRCh38',\n",
       "  'alleles': ['C', 'T'],\n",
       "  'start': 32860017},\n",
       " {'start': 32860020,\n",
       "  'consequence_type': 'intergenic_variant',\n",
       "  'assembly_name': 'GRCh38',\n",
       "  'alleles': ['C', 'T'],\n",
       "  'id': 'rs942819510',\n",
       "  'strand': 1,\n",
       "  'source': 'dbSNP',\n",
       "  'feature_type': 'variation',\n",
       "  'seq_region_name': '7',\n",
       "  'clinical_significance': [],\n",
       "  'end': 32860020},\n",
       " {'source': 'dbSNP',\n",
       "  'strand': 1,\n",
       "  'id': 'rs1039885257',\n",
       "  'consequence_type': 'intergenic_variant',\n",
       "  'alleles': ['C', 'T'],\n",
       "  'assembly_name': 'GRCh38',\n",
       "  'start': 32860043,\n",
       "  'seq_region_name': '7',\n",
       "  'clinical_significance': [],\n",
       "  'end': 32860043,\n",
       "  'feature_type': 'variation'},\n",
       " {'strand': 1,\n",
       "  'source': 'dbSNP',\n",
       "  'id': 'rs534746960',\n",
       "  'assembly_name': 'GRCh38',\n",
       "  'alleles': ['T', 'C'],\n",
       "  'consequence_type': 'intergenic_variant',\n",
       "  'start': 32860045,\n",
       "  'end': 32860045,\n",
       "  'clinical_significance': [],\n",
       "  'seq_region_name': '7',\n",
       "  'feature_type': 'variation'},\n",
       " {'start': 32860050,\n",
       "  'consequence_type': 'intergenic_variant',\n",
       "  'alleles': ['T', 'C'],\n",
       "  'assembly_name': 'GRCh38',\n",
       "  'id': 'rs1157358533',\n",
       "  'source': 'dbSNP',\n",
       "  'strand': 1,\n",
       "  'feature_type': 'variation',\n",
       "  'clinical_significance': [],\n",
       "  'seq_region_name': '7',\n",
       "  'end': 32860050},\n",
       " {'seq_region_name': '7',\n",
       "  'clinical_significance': [],\n",
       "  'end': 32860053,\n",
       "  'feature_type': 'variation',\n",
       "  'source': 'dbSNP',\n",
       "  'strand': 1,\n",
       "  'id': 'rs1472563593',\n",
       "  'consequence_type': 'intergenic_variant',\n",
       "  'assembly_name': 'GRCh38',\n",
       "  'alleles': ['A', 'G'],\n",
       "  'start': 32860053}]"
      ]
     },
     "execution_count": 2,
     "metadata": {},
     "output_type": "execute_result"
    }
   ],
   "source": [
    "rsids_in_the_region = gp.get_ov_region(7,32860000,32870000,features=['variation'])\n",
    "rsids_in_the_region[:10]"
   ]
  },
  {
   "cell_type": "code",
   "execution_count": 5,
   "id": "60ce9093",
   "metadata": {},
   "outputs": [
    {
     "data": {
      "text/html": [
       "<div>\n",
       "<style scoped>\n",
       "    .dataframe tbody tr th:only-of-type {\n",
       "        vertical-align: middle;\n",
       "    }\n",
       "\n",
       "    .dataframe tbody tr th {\n",
       "        vertical-align: top;\n",
       "    }\n",
       "\n",
       "    .dataframe thead th {\n",
       "        text-align: right;\n",
       "    }\n",
       "</style>\n",
       "<table border=\"1\" class=\"dataframe\">\n",
       "  <thead>\n",
       "    <tr style=\"text-align: right;\">\n",
       "      <th></th>\n",
       "      <th>rsids</th>\n",
       "      <th>alleles</th>\n",
       "      <th>consequence_type</th>\n",
       "    </tr>\n",
       "  </thead>\n",
       "  <tbody>\n",
       "    <tr>\n",
       "      <th>0</th>\n",
       "      <td>rs1411072131</td>\n",
       "      <td>[T, C]</td>\n",
       "      <td>intergenic_variant</td>\n",
       "    </tr>\n",
       "    <tr>\n",
       "      <th>1</th>\n",
       "      <td>rs1054004565</td>\n",
       "      <td>[G, A]</td>\n",
       "      <td>intergenic_variant</td>\n",
       "    </tr>\n",
       "    <tr>\n",
       "      <th>2</th>\n",
       "      <td>rs1468441306</td>\n",
       "      <td>[T, TT]</td>\n",
       "      <td>intergenic_variant</td>\n",
       "    </tr>\n",
       "    <tr>\n",
       "      <th>3</th>\n",
       "      <td>rs1171703244</td>\n",
       "      <td>[TTTT, TT]</td>\n",
       "      <td>intergenic_variant</td>\n",
       "    </tr>\n",
       "    <tr>\n",
       "      <th>4</th>\n",
       "      <td>rs894063101</td>\n",
       "      <td>[C, T]</td>\n",
       "      <td>intergenic_variant</td>\n",
       "    </tr>\n",
       "    <tr>\n",
       "      <th>...</th>\n",
       "      <td>...</td>\n",
       "      <td>...</td>\n",
       "      <td>...</td>\n",
       "    </tr>\n",
       "    <tr>\n",
       "      <th>2406</th>\n",
       "      <td>rs1283024793</td>\n",
       "      <td>[T, A]</td>\n",
       "      <td>missense_variant</td>\n",
       "    </tr>\n",
       "    <tr>\n",
       "      <th>2407</th>\n",
       "      <td>rs776120252</td>\n",
       "      <td>[C, T]</td>\n",
       "      <td>synonymous_variant</td>\n",
       "    </tr>\n",
       "    <tr>\n",
       "      <th>2408</th>\n",
       "      <td>rs763201871</td>\n",
       "      <td>[G, A, T]</td>\n",
       "      <td>missense_variant</td>\n",
       "    </tr>\n",
       "    <tr>\n",
       "      <th>2409</th>\n",
       "      <td>rs769102336</td>\n",
       "      <td>[T, A]</td>\n",
       "      <td>missense_variant</td>\n",
       "    </tr>\n",
       "    <tr>\n",
       "      <th>2410</th>\n",
       "      <td>rs1344219477</td>\n",
       "      <td>[T, C]</td>\n",
       "      <td>synonymous_variant</td>\n",
       "    </tr>\n",
       "  </tbody>\n",
       "</table>\n",
       "<p>2411 rows × 3 columns</p>\n",
       "</div>"
      ],
      "text/plain": [
       "             rsids     alleles    consequence_type\n",
       "0     rs1411072131      [T, C]  intergenic_variant\n",
       "1     rs1054004565      [G, A]  intergenic_variant\n",
       "2     rs1468441306     [T, TT]  intergenic_variant\n",
       "3     rs1171703244  [TTTT, TT]  intergenic_variant\n",
       "4      rs894063101      [C, T]  intergenic_variant\n",
       "...            ...         ...                 ...\n",
       "2406  rs1283024793      [T, A]    missense_variant\n",
       "2407   rs776120252      [C, T]  synonymous_variant\n",
       "2408   rs763201871   [G, A, T]    missense_variant\n",
       "2409   rs769102336      [T, A]    missense_variant\n",
       "2410  rs1344219477      [T, C]  synonymous_variant\n",
       "\n",
       "[2411 rows x 3 columns]"
      ]
     },
     "execution_count": 5,
     "metadata": {},
     "output_type": "execute_result"
    }
   ],
   "source": [
    "# We will prettify the results in order to get a Pandas dataframe\n",
    "\n",
    "variants = [(r['id'],r['alleles'],r['consequence_type']) for r in rsids_in_the_region ]\n",
    "\n",
    "variants_df = pd.DataFrame(variants,columns=['rsids','alleles','consequence_type'])\n",
    "variants_df"
   ]
  },
  {
   "cell_type": "markdown",
   "id": "d09380c8",
   "metadata": {},
   "source": [
    "# Linkage Disequlibrium \n",
    "\n",
    "Genopyc allows to work with variants in Linkage disequilibrium in different ways. The first and probably most common way is to, given a set of variants, calculate the LD matrix between them. For this, it exploits [LDlink](https://ldlink.nih.gov/?tab=home) tool. This function needs a token that can be obtained by [registering](https://ldlink.nci.nih.gov/?tab=apiaccess) in the website. Let's calculate the LD among all the TF_binding_site_variant that we just retrieved. It accept maximum 1000 rsids."
   ]
  },
  {
   "cell_type": "code",
   "execution_count": 7,
   "id": "30825fcc",
   "metadata": {
    "collapsed": true
   },
   "outputs": [
    {
     "name": "stderr",
     "output_type": "stream",
     "text": [
      "/root/miniconda3/envs/KNE/lib/python3.10/site-packages/urllib3/connectionpool.py:1045: InsecureRequestWarning: Unverified HTTPS request is being made to host 'ldlink.nci.nih.gov'. Adding certificate verification is strongly advised. See: https://urllib3.readthedocs.io/en/1.26.x/advanced-usage.html#ssl-warnings\n",
      "  warnings.warn(\n"
     ]
    }
   ],
   "source": [
    "rsids = variants_df.rsids.tolist()[:1000]\n",
    "\n",
    "ldm = gp.GetLDMatrix(rsids,token=#token)\n",
    "\n",
    "#The token can be obtained in the link above"
   ]
  },
  {
   "cell_type": "code",
   "execution_count": 8,
   "id": "bc0e22e6",
   "metadata": {},
   "outputs": [
    {
     "data": {
      "text/html": [
       "<div>\n",
       "<style scoped>\n",
       "    .dataframe tbody tr th:only-of-type {\n",
       "        vertical-align: middle;\n",
       "    }\n",
       "\n",
       "    .dataframe tbody tr th {\n",
       "        vertical-align: top;\n",
       "    }\n",
       "\n",
       "    .dataframe thead th {\n",
       "        text-align: right;\n",
       "    }\n",
       "</style>\n",
       "<table border=\"1\" class=\"dataframe\">\n",
       "  <thead>\n",
       "    <tr style=\"text-align: right;\">\n",
       "      <th></th>\n",
       "      <th>rs534746960</th>\n",
       "      <th>rs116426673</th>\n",
       "      <th>rs138336189</th>\n",
       "      <th>rs1313961699</th>\n",
       "      <th>rs1318977291</th>\n",
       "      <th>rs191719768</th>\n",
       "      <th>rs1279761447</th>\n",
       "      <th>rs181788040</th>\n",
       "      <th>rs72617567</th>\n",
       "      <th>rs564043586</th>\n",
       "      <th>...</th>\n",
       "      <th>rs745408164</th>\n",
       "      <th>rs1194834457</th>\n",
       "      <th>rs1583764594</th>\n",
       "      <th>rs142915624</th>\n",
       "      <th>rs535989094</th>\n",
       "      <th>rs553991139</th>\n",
       "      <th>rs78635020</th>\n",
       "      <th>rs190621051</th>\n",
       "      <th>rs181770131</th>\n",
       "      <th>rs543311272</th>\n",
       "    </tr>\n",
       "    <tr>\n",
       "      <th>RS_number</th>\n",
       "      <th></th>\n",
       "      <th></th>\n",
       "      <th></th>\n",
       "      <th></th>\n",
       "      <th></th>\n",
       "      <th></th>\n",
       "      <th></th>\n",
       "      <th></th>\n",
       "      <th></th>\n",
       "      <th></th>\n",
       "      <th></th>\n",
       "      <th></th>\n",
       "      <th></th>\n",
       "      <th></th>\n",
       "      <th></th>\n",
       "      <th></th>\n",
       "      <th></th>\n",
       "      <th></th>\n",
       "      <th></th>\n",
       "      <th></th>\n",
       "      <th></th>\n",
       "    </tr>\n",
       "  </thead>\n",
       "  <tbody>\n",
       "    <tr>\n",
       "      <th>rs534746960</th>\n",
       "      <td>0.0</td>\n",
       "      <td>0.0</td>\n",
       "      <td>0.0</td>\n",
       "      <td>0.0</td>\n",
       "      <td>0.0</td>\n",
       "      <td>0.0</td>\n",
       "      <td>0.0</td>\n",
       "      <td>0.0</td>\n",
       "      <td>0.000</td>\n",
       "      <td>0.0</td>\n",
       "      <td>...</td>\n",
       "      <td>0.000</td>\n",
       "      <td>0.000</td>\n",
       "      <td>0.000</td>\n",
       "      <td>0.0</td>\n",
       "      <td>0.0</td>\n",
       "      <td>0.000</td>\n",
       "      <td>0.000</td>\n",
       "      <td>0.0</td>\n",
       "      <td>0.0</td>\n",
       "      <td>0.0</td>\n",
       "    </tr>\n",
       "    <tr>\n",
       "      <th>rs116426673</th>\n",
       "      <td>0.0</td>\n",
       "      <td>1.0</td>\n",
       "      <td>0.0</td>\n",
       "      <td>0.0</td>\n",
       "      <td>0.0</td>\n",
       "      <td>0.0</td>\n",
       "      <td>0.0</td>\n",
       "      <td>0.0</td>\n",
       "      <td>0.000</td>\n",
       "      <td>0.0</td>\n",
       "      <td>...</td>\n",
       "      <td>0.000</td>\n",
       "      <td>0.000</td>\n",
       "      <td>0.000</td>\n",
       "      <td>0.0</td>\n",
       "      <td>0.0</td>\n",
       "      <td>0.000</td>\n",
       "      <td>0.000</td>\n",
       "      <td>0.0</td>\n",
       "      <td>0.0</td>\n",
       "      <td>0.0</td>\n",
       "    </tr>\n",
       "    <tr>\n",
       "      <th>rs138336189</th>\n",
       "      <td>0.0</td>\n",
       "      <td>0.0</td>\n",
       "      <td>0.0</td>\n",
       "      <td>0.0</td>\n",
       "      <td>0.0</td>\n",
       "      <td>0.0</td>\n",
       "      <td>0.0</td>\n",
       "      <td>0.0</td>\n",
       "      <td>0.000</td>\n",
       "      <td>0.0</td>\n",
       "      <td>...</td>\n",
       "      <td>0.000</td>\n",
       "      <td>0.000</td>\n",
       "      <td>0.000</td>\n",
       "      <td>0.0</td>\n",
       "      <td>0.0</td>\n",
       "      <td>0.000</td>\n",
       "      <td>0.000</td>\n",
       "      <td>0.0</td>\n",
       "      <td>0.0</td>\n",
       "      <td>0.0</td>\n",
       "    </tr>\n",
       "    <tr>\n",
       "      <th>rs1313961699</th>\n",
       "      <td>0.0</td>\n",
       "      <td>0.0</td>\n",
       "      <td>0.0</td>\n",
       "      <td>0.0</td>\n",
       "      <td>0.0</td>\n",
       "      <td>0.0</td>\n",
       "      <td>0.0</td>\n",
       "      <td>0.0</td>\n",
       "      <td>0.000</td>\n",
       "      <td>0.0</td>\n",
       "      <td>...</td>\n",
       "      <td>0.000</td>\n",
       "      <td>0.000</td>\n",
       "      <td>0.000</td>\n",
       "      <td>0.0</td>\n",
       "      <td>0.0</td>\n",
       "      <td>0.000</td>\n",
       "      <td>0.000</td>\n",
       "      <td>0.0</td>\n",
       "      <td>0.0</td>\n",
       "      <td>0.0</td>\n",
       "    </tr>\n",
       "    <tr>\n",
       "      <th>rs1318977291</th>\n",
       "      <td>0.0</td>\n",
       "      <td>0.0</td>\n",
       "      <td>0.0</td>\n",
       "      <td>0.0</td>\n",
       "      <td>0.0</td>\n",
       "      <td>0.0</td>\n",
       "      <td>0.0</td>\n",
       "      <td>0.0</td>\n",
       "      <td>0.000</td>\n",
       "      <td>0.0</td>\n",
       "      <td>...</td>\n",
       "      <td>0.000</td>\n",
       "      <td>0.000</td>\n",
       "      <td>0.000</td>\n",
       "      <td>0.0</td>\n",
       "      <td>0.0</td>\n",
       "      <td>0.000</td>\n",
       "      <td>0.000</td>\n",
       "      <td>0.0</td>\n",
       "      <td>0.0</td>\n",
       "      <td>0.0</td>\n",
       "    </tr>\n",
       "    <tr>\n",
       "      <th>...</th>\n",
       "      <td>...</td>\n",
       "      <td>...</td>\n",
       "      <td>...</td>\n",
       "      <td>...</td>\n",
       "      <td>...</td>\n",
       "      <td>...</td>\n",
       "      <td>...</td>\n",
       "      <td>...</td>\n",
       "      <td>...</td>\n",
       "      <td>...</td>\n",
       "      <td>...</td>\n",
       "      <td>...</td>\n",
       "      <td>...</td>\n",
       "      <td>...</td>\n",
       "      <td>...</td>\n",
       "      <td>...</td>\n",
       "      <td>...</td>\n",
       "      <td>...</td>\n",
       "      <td>...</td>\n",
       "      <td>...</td>\n",
       "      <td>...</td>\n",
       "    </tr>\n",
       "    <tr>\n",
       "      <th>rs553991139</th>\n",
       "      <td>0.0</td>\n",
       "      <td>0.0</td>\n",
       "      <td>0.0</td>\n",
       "      <td>0.0</td>\n",
       "      <td>0.0</td>\n",
       "      <td>0.0</td>\n",
       "      <td>0.0</td>\n",
       "      <td>0.0</td>\n",
       "      <td>0.055</td>\n",
       "      <td>0.0</td>\n",
       "      <td>...</td>\n",
       "      <td>0.000</td>\n",
       "      <td>0.000</td>\n",
       "      <td>0.000</td>\n",
       "      <td>0.0</td>\n",
       "      <td>0.0</td>\n",
       "      <td>1.000</td>\n",
       "      <td>0.001</td>\n",
       "      <td>0.0</td>\n",
       "      <td>0.0</td>\n",
       "      <td>0.0</td>\n",
       "    </tr>\n",
       "    <tr>\n",
       "      <th>rs78635020</th>\n",
       "      <td>0.0</td>\n",
       "      <td>0.0</td>\n",
       "      <td>0.0</td>\n",
       "      <td>0.0</td>\n",
       "      <td>0.0</td>\n",
       "      <td>0.0</td>\n",
       "      <td>0.0</td>\n",
       "      <td>0.0</td>\n",
       "      <td>0.009</td>\n",
       "      <td>0.0</td>\n",
       "      <td>...</td>\n",
       "      <td>0.002</td>\n",
       "      <td>0.002</td>\n",
       "      <td>0.002</td>\n",
       "      <td>0.0</td>\n",
       "      <td>0.0</td>\n",
       "      <td>0.001</td>\n",
       "      <td>1.000</td>\n",
       "      <td>0.0</td>\n",
       "      <td>0.0</td>\n",
       "      <td>0.0</td>\n",
       "    </tr>\n",
       "    <tr>\n",
       "      <th>rs190621051</th>\n",
       "      <td>0.0</td>\n",
       "      <td>0.0</td>\n",
       "      <td>0.0</td>\n",
       "      <td>0.0</td>\n",
       "      <td>0.0</td>\n",
       "      <td>0.0</td>\n",
       "      <td>0.0</td>\n",
       "      <td>0.0</td>\n",
       "      <td>0.000</td>\n",
       "      <td>0.0</td>\n",
       "      <td>...</td>\n",
       "      <td>0.000</td>\n",
       "      <td>0.000</td>\n",
       "      <td>0.000</td>\n",
       "      <td>0.0</td>\n",
       "      <td>0.0</td>\n",
       "      <td>0.000</td>\n",
       "      <td>0.000</td>\n",
       "      <td>0.0</td>\n",
       "      <td>0.0</td>\n",
       "      <td>0.0</td>\n",
       "    </tr>\n",
       "    <tr>\n",
       "      <th>rs181770131</th>\n",
       "      <td>0.0</td>\n",
       "      <td>0.0</td>\n",
       "      <td>0.0</td>\n",
       "      <td>0.0</td>\n",
       "      <td>0.0</td>\n",
       "      <td>0.0</td>\n",
       "      <td>0.0</td>\n",
       "      <td>0.0</td>\n",
       "      <td>0.000</td>\n",
       "      <td>0.0</td>\n",
       "      <td>...</td>\n",
       "      <td>0.000</td>\n",
       "      <td>0.000</td>\n",
       "      <td>0.000</td>\n",
       "      <td>0.0</td>\n",
       "      <td>0.0</td>\n",
       "      <td>0.000</td>\n",
       "      <td>0.000</td>\n",
       "      <td>0.0</td>\n",
       "      <td>1.0</td>\n",
       "      <td>0.0</td>\n",
       "    </tr>\n",
       "    <tr>\n",
       "      <th>rs543311272</th>\n",
       "      <td>0.0</td>\n",
       "      <td>0.0</td>\n",
       "      <td>0.0</td>\n",
       "      <td>0.0</td>\n",
       "      <td>0.0</td>\n",
       "      <td>0.0</td>\n",
       "      <td>0.0</td>\n",
       "      <td>0.0</td>\n",
       "      <td>0.000</td>\n",
       "      <td>0.0</td>\n",
       "      <td>...</td>\n",
       "      <td>0.000</td>\n",
       "      <td>0.000</td>\n",
       "      <td>0.000</td>\n",
       "      <td>0.0</td>\n",
       "      <td>0.0</td>\n",
       "      <td>0.000</td>\n",
       "      <td>0.000</td>\n",
       "      <td>0.0</td>\n",
       "      <td>0.0</td>\n",
       "      <td>0.0</td>\n",
       "    </tr>\n",
       "  </tbody>\n",
       "</table>\n",
       "<p>109 rows × 109 columns</p>\n",
       "</div>"
      ],
      "text/plain": [
       "0             rs534746960  rs116426673  rs138336189  rs1313961699  \\\n",
       "RS_number                                                           \n",
       "rs534746960           0.0          0.0          0.0           0.0   \n",
       "rs116426673           0.0          1.0          0.0           0.0   \n",
       "rs138336189           0.0          0.0          0.0           0.0   \n",
       "rs1313961699          0.0          0.0          0.0           0.0   \n",
       "rs1318977291          0.0          0.0          0.0           0.0   \n",
       "...                   ...          ...          ...           ...   \n",
       "rs553991139           0.0          0.0          0.0           0.0   \n",
       "rs78635020            0.0          0.0          0.0           0.0   \n",
       "rs190621051           0.0          0.0          0.0           0.0   \n",
       "rs181770131           0.0          0.0          0.0           0.0   \n",
       "rs543311272           0.0          0.0          0.0           0.0   \n",
       "\n",
       "0             rs1318977291  rs191719768  rs1279761447  rs181788040  \\\n",
       "RS_number                                                            \n",
       "rs534746960            0.0          0.0           0.0          0.0   \n",
       "rs116426673            0.0          0.0           0.0          0.0   \n",
       "rs138336189            0.0          0.0           0.0          0.0   \n",
       "rs1313961699           0.0          0.0           0.0          0.0   \n",
       "rs1318977291           0.0          0.0           0.0          0.0   \n",
       "...                    ...          ...           ...          ...   \n",
       "rs553991139            0.0          0.0           0.0          0.0   \n",
       "rs78635020             0.0          0.0           0.0          0.0   \n",
       "rs190621051            0.0          0.0           0.0          0.0   \n",
       "rs181770131            0.0          0.0           0.0          0.0   \n",
       "rs543311272            0.0          0.0           0.0          0.0   \n",
       "\n",
       "0             rs72617567  rs564043586  ...  rs745408164  rs1194834457  \\\n",
       "RS_number                              ...                              \n",
       "rs534746960        0.000          0.0  ...        0.000         0.000   \n",
       "rs116426673        0.000          0.0  ...        0.000         0.000   \n",
       "rs138336189        0.000          0.0  ...        0.000         0.000   \n",
       "rs1313961699       0.000          0.0  ...        0.000         0.000   \n",
       "rs1318977291       0.000          0.0  ...        0.000         0.000   \n",
       "...                  ...          ...  ...          ...           ...   \n",
       "rs553991139        0.055          0.0  ...        0.000         0.000   \n",
       "rs78635020         0.009          0.0  ...        0.002         0.002   \n",
       "rs190621051        0.000          0.0  ...        0.000         0.000   \n",
       "rs181770131        0.000          0.0  ...        0.000         0.000   \n",
       "rs543311272        0.000          0.0  ...        0.000         0.000   \n",
       "\n",
       "0             rs1583764594  rs142915624  rs535989094  rs553991139  rs78635020  \\\n",
       "RS_number                                                                       \n",
       "rs534746960          0.000          0.0          0.0        0.000       0.000   \n",
       "rs116426673          0.000          0.0          0.0        0.000       0.000   \n",
       "rs138336189          0.000          0.0          0.0        0.000       0.000   \n",
       "rs1313961699         0.000          0.0          0.0        0.000       0.000   \n",
       "rs1318977291         0.000          0.0          0.0        0.000       0.000   \n",
       "...                    ...          ...          ...          ...         ...   \n",
       "rs553991139          0.000          0.0          0.0        1.000       0.001   \n",
       "rs78635020           0.002          0.0          0.0        0.001       1.000   \n",
       "rs190621051          0.000          0.0          0.0        0.000       0.000   \n",
       "rs181770131          0.000          0.0          0.0        0.000       0.000   \n",
       "rs543311272          0.000          0.0          0.0        0.000       0.000   \n",
       "\n",
       "0             rs190621051  rs181770131  rs543311272  \n",
       "RS_number                                            \n",
       "rs534746960           0.0          0.0          0.0  \n",
       "rs116426673           0.0          0.0          0.0  \n",
       "rs138336189           0.0          0.0          0.0  \n",
       "rs1313961699          0.0          0.0          0.0  \n",
       "rs1318977291          0.0          0.0          0.0  \n",
       "...                   ...          ...          ...  \n",
       "rs553991139           0.0          0.0          0.0  \n",
       "rs78635020            0.0          0.0          0.0  \n",
       "rs190621051           0.0          0.0          0.0  \n",
       "rs181770131           0.0          1.0          0.0  \n",
       "rs543311272           0.0          0.0          0.0  \n",
       "\n",
       "[109 rows x 109 columns]"
      ]
     },
     "execution_count": 8,
     "metadata": {},
     "output_type": "execute_result"
    }
   ],
   "source": [
    "ldm"
   ]
  },
  {
   "cell_type": "code",
   "execution_count": 9,
   "id": "55db8481",
   "metadata": {
    "scrolled": true
   },
   "outputs": [
    {
     "data": {
      "image/png": "[encoded data removed]",
      "text/plain": [
       "<Figure size 432x288 with 2 Axes>"
      ]
     },
     "metadata": {
      "needs_background": "light"
     },
     "output_type": "display_data"
    }
   ],
   "source": [
    "sns.heatmap(ldm)\n",
    "plt.show()"
   ]
  },
  {
   "cell_type": "markdown",
   "id": "292e2d0c",
   "metadata": {},
   "source": [
    "Also, a genomic area can be feed to Genopyc, it will calculate the pairwise LD between all de rsids in that area."
   ]
  },
  {
   "cell_type": "code",
   "execution_count": 18,
   "id": "ff61232a",
   "metadata": {},
   "outputs": [
    {
     "data": {
      "text/html": [
       "<div>\n",
       "<style scoped>\n",
       "    .dataframe tbody tr th:only-of-type {\n",
       "        vertical-align: middle;\n",
       "    }\n",
       "\n",
       "    .dataframe tbody tr th {\n",
       "        vertical-align: top;\n",
       "    }\n",
       "\n",
       "    .dataframe thead th {\n",
       "        text-align: right;\n",
       "    }\n",
       "</style>\n",
       "<table border=\"1\" class=\"dataframe\">\n",
       "  <thead>\n",
       "    <tr style=\"text-align: right;\">\n",
       "      <th></th>\n",
       "      <th>v1</th>\n",
       "      <th>v2</th>\n",
       "      <th>r2</th>\n",
       "    </tr>\n",
       "  </thead>\n",
       "  <tbody>\n",
       "    <tr>\n",
       "      <th>8</th>\n",
       "      <td>rs1045477</td>\n",
       "      <td>rs752730</td>\n",
       "      <td>0.139342</td>\n",
       "    </tr>\n",
       "    <tr>\n",
       "      <th>4</th>\n",
       "      <td>rs111304378</td>\n",
       "      <td>rs41525144</td>\n",
       "      <td>0.051006</td>\n",
       "    </tr>\n",
       "    <tr>\n",
       "      <th>6</th>\n",
       "      <td>rs111304378</td>\n",
       "      <td>rs4720083</td>\n",
       "      <td>0.455366</td>\n",
       "    </tr>\n",
       "    <tr>\n",
       "      <th>0</th>\n",
       "      <td>rs113752499</td>\n",
       "      <td>rs113670660</td>\n",
       "      <td>0.061955</td>\n",
       "    </tr>\n",
       "    <tr>\n",
       "      <th>11</th>\n",
       "      <td>rs117073274</td>\n",
       "      <td>rs116964733</td>\n",
       "      <td>0.082421</td>\n",
       "    </tr>\n",
       "    <tr>\n",
       "      <th>7</th>\n",
       "      <td>rs2392152</td>\n",
       "      <td>rs62467364</td>\n",
       "      <td>0.192598</td>\n",
       "    </tr>\n",
       "    <tr>\n",
       "      <th>2</th>\n",
       "      <td>rs35227378</td>\n",
       "      <td>rs113752499</td>\n",
       "      <td>0.763641</td>\n",
       "    </tr>\n",
       "    <tr>\n",
       "      <th>10</th>\n",
       "      <td>rs41525144</td>\n",
       "      <td>rs2392152</td>\n",
       "      <td>0.143400</td>\n",
       "    </tr>\n",
       "    <tr>\n",
       "      <th>9</th>\n",
       "      <td>rs4720083</td>\n",
       "      <td>rs2392152</td>\n",
       "      <td>0.192598</td>\n",
       "    </tr>\n",
       "    <tr>\n",
       "      <th>1</th>\n",
       "      <td>rs564144630</td>\n",
       "      <td>rs531226249</td>\n",
       "      <td>1.000000</td>\n",
       "    </tr>\n",
       "    <tr>\n",
       "      <th>5</th>\n",
       "      <td>rs66543560</td>\n",
       "      <td>rs35227378</td>\n",
       "      <td>0.169412</td>\n",
       "    </tr>\n",
       "    <tr>\n",
       "      <th>3</th>\n",
       "      <td>rs78635020</td>\n",
       "      <td>rs145587856</td>\n",
       "      <td>0.836219</td>\n",
       "    </tr>\n",
       "  </tbody>\n",
       "</table>\n",
       "</div>"
      ],
      "text/plain": [
       "             v1           v2        r2\n",
       "8     rs1045477     rs752730  0.139342\n",
       "4   rs111304378   rs41525144  0.051006\n",
       "6   rs111304378    rs4720083  0.455366\n",
       "0   rs113752499  rs113670660  0.061955\n",
       "11  rs117073274  rs116964733  0.082421\n",
       "7     rs2392152   rs62467364  0.192598\n",
       "2    rs35227378  rs113752499  0.763641\n",
       "10   rs41525144    rs2392152  0.143400\n",
       "9     rs4720083    rs2392152  0.192598\n",
       "1   rs564144630  rs531226249  1.000000\n",
       "5    rs66543560   rs35227378  0.169412\n",
       "3    rs78635020  rs145587856  0.836219"
      ]
     },
     "execution_count": 18,
     "metadata": {},
     "output_type": "execute_result"
    }
   ],
   "source": [
    "pwld = gp.PairwiseLD(7,32860000,32870000)\n",
    "pwld"
   ]
  },
  {
   "cell_type": "markdown",
   "id": "89f43ae8",
   "metadata": {},
   "source": [
    "Lastly, given a specific rsid we can detect all the variants that are in LD above a certain treshold with it. In the following we will retrieve all the variants in LD $\\geq$ 0.8 with rs6792369"
   ]
  },
  {
   "cell_type": "code",
   "execution_count": 3,
   "id": "fe08d3f2",
   "metadata": {
    "scrolled": true
   },
   "outputs": [
    {
     "data": {
      "text/plain": [
       "['rs7653028',\n",
       " 'rs2230535',\n",
       " 'rs2239551',\n",
       " 'rs112860674',\n",
       " 'rs2336146',\n",
       " 'rs2071508',\n",
       " 'rs35107891',\n",
       " 'rs77146033',\n",
       " 'rs1014969',\n",
       " 'rs35526119']"
      ]
     },
     "execution_count": 3,
     "metadata": {},
     "output_type": "execute_result"
    }
   ],
   "source": [
    "variants_in_LD = gp.get_variants_in_LD(\"rs6792369\",r2 = 0.8)\n",
    "variants_in_LD[:10]"
   ]
  },
  {
   "cell_type": "markdown",
   "id": "0659f493",
   "metadata": {},
   "source": [
    "# Retrieve genes associated to GWAS loci exploiting [Open Target L2G pipeline](https://genetics-docs.opentargets.org/our-approach/prioritising-causal-genes-at-gwas-loci-l2g)"
   ]
  },
  {
   "cell_type": "code",
   "execution_count": 6,
   "id": "2e20e625",
   "metadata": {},
   "outputs": [
    {
     "data": {
      "text/plain": [
       "['rs144366570',\n",
       " 'rs13116936',\n",
       " 'rs7810893',\n",
       " 'rs10644111',\n",
       " 'rs2532263',\n",
       " 'rs11264454',\n",
       " 'rs142890050',\n",
       " 'rs4702131',\n",
       " 'rs140842923',\n",
       " 'rs11205303']"
      ]
     },
     "execution_count": 6,
     "metadata": {},
     "output_type": "execute_result"
    }
   ],
   "source": [
    "variants_to_study = variants[0:10]\n",
    "variants_to_study\n"
   ]
  },
  {
   "cell_type": "markdown",
   "id": "55a4ee91",
   "metadata": {},
   "source": [
    "## Convert the variants in the right format\n"
   ]
  },
  {
   "cell_type": "code",
   "execution_count": 10,
   "id": "123e2f00",
   "metadata": {},
   "outputs": [
    {
     "name": "stdout",
     "output_type": "stream",
     "text": [
      "list index out of range Couldn't Convert Variant rs144366570\n",
      "list index out of range Couldn't Convert Variant rs142890050\n"
     ]
    },
    {
     "data": {
      "text/plain": [
       "['4_121205653_G_T',\n",
       " '7_12721416_T_C',\n",
       " '7_92022864_A_AAAC',\n",
       " '17_46175102_G_A',\n",
       " '1_156183252_A_G',\n",
       " '5_16233510_T_C',\n",
       " '6_157009956_C_T',\n",
       " '1_149934520_T_C']"
      ]
     },
     "execution_count": 10,
     "metadata": {},
     "output_type": "execute_result"
    }
   ],
   "source": [
    "variants_to_study_ot = gp.ConvertVariantsForOT(variants_to_study,source='rsid',target = 'variantid')\n",
    "variants_to_study_ot=list(filter(None,variants_to_study_ot))\n",
    "variants_to_study_ot"
   ]
  },
  {
   "cell_type": "code",
   "execution_count": 16,
   "id": "1c562442",
   "metadata": {},
   "outputs": [],
   "source": [
    "results_OT = gp.OT_L2G(variants_to_study_ot,output='all')"
   ]
  },
  {
   "cell_type": "code",
   "execution_count": 19,
   "id": "221ca517",
   "metadata": {},
   "outputs": [
    {
     "data": {
      "text/plain": [
       "('4_121205653_G_T',\n",
       " [('ENSG00000138738', 0.026559356136820922),\n",
       "  ('ENSG00000164111', 0),\n",
       "  ('ENSG00000050730', 0.17947686116700198),\n",
       "  ('ENSG00000173376', 0.059758551307847074),\n",
       "  ('ENSG00000186867', 0.03983903420523138)])"
      ]
     },
     "execution_count": 19,
     "metadata": {},
     "output_type": "execute_result"
    }
   ],
   "source": [
    "list(results_OT.items())[0]\n"
   ]
  }
 ],
 "metadata": {
  "kernelspec": {
   "display_name": "KG",
   "language": "python",
   "name": "kg"
  },
  "language_info": {
   "codemirror_mode": {
    "name": "ipython",
    "version": 3
   },
   "file_extension": ".py",
   "mimetype": "text/x-python",
   "name": "python",
   "nbconvert_exporter": "python",
   "pygments_lexer": "ipython3",
   "version": "3.11.2"
  },
  "toc": {
   "base_numbering": 1,
   "nav_menu": {},
   "number_sections": true,
   "sideBar": true,
   "skip_h1_title": false,
   "title_cell": "Table of Contents",
   "title_sidebar": "Contents",
   "toc_cell": false,
   "toc_position": {},
   "toc_section_display": true,
   "toc_window_display": false
  },
  "vscode": {
   "interpreter": {
    "hash": "604c7badc700d10a30345f5106f9bd1325b472f3258059b567a1db968bd4e31f"
   }
  }
 },
 "nbformat": 4,
 "nbformat_minor": 5
}
